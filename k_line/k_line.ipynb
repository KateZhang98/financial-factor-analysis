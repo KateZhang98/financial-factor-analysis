{
 "cells": [
  {
   "cell_type": "code",
   "execution_count": 109,
   "id": "840006a7",
   "metadata": {},
   "outputs": [],
   "source": [
    "import datetime\n",
    "import time\n",
    "import sys\n",
    "sys.path.append(r'/home/hengtian/lucy/factor-analyzer-v4/')\n",
    "import pymysql\n",
    "import matplotlib.pyplot as plt\n",
    "import pandas as pd\n",
    "import numpy as np\n",
    "import multiprocessing\n",
    "import os\n",
    "import queue\n",
    "import tqdm\n",
    "# from src import data \n",
    "# from src import analyzer\n",
    "sys.path.append(os.path.abspath('/home/hengtian/kate/'))\n",
    "import get_factor_tools as gft\n",
    "# import datetime as dt\n",
    "from imp import reload\n",
    "reload(gft)\n",
    "import plotly.graph_objects as go\n",
    "from plotly.subplots import make_subplots\n",
    "\n",
    "# import cufflinks as cf\n",
    "# cf.go_offline()\n",
    "\n",
    "sys.path.append(r'/home/hengtian/lucy/PortfolioOptimizer/')\n",
    "from PortfolioOptimizerMaster.src import tools\n",
    "\n",
    "from sklearn.model_selection import TimeSeriesSplit\n",
    "from sklearn.metrics import r2_score, mean_squared_error\n",
    "from sklearn.linear_model import LinearRegression"
   ]
  },
  {
   "cell_type": "code",
   "execution_count": 16,
   "id": "51d2804d",
   "metadata": {},
   "outputs": [],
   "source": [
    "def multi_process(stock_list, func,pro_num):\n",
    "    q = multiprocessing.Manager().Queue()\n",
    "    param = []\n",
    "    for stock in stock_list:\n",
    "        param.append((stock,q))\n",
    "    # print(param)\n",
    "    #task\n",
    "    with multiprocessing.Pool(processes =pro_num) as pool:\n",
    "        pool.starmap(func,param)\n",
    "\n",
    "    #extract\n",
    "    elements = []\n",
    "    while q.qsize():\n",
    "        elements.append(q.get())\n",
    "    return elements"
   ]
  },
  {
   "cell_type": "code",
   "execution_count": null,
   "id": "8d414fd0",
   "metadata": {},
   "outputs": [],
   "source": [
    "# 每日最高价\n",
    "h_post = gft.get_stock_factor('highest_price_post',start_date =datetime.date(2013, 1, 1),end_date = datetime.date(2021, 8, 9))\n",
    "h_post.to_csv('highest_price_post_0809.csv')\n",
    "#每日最低价\n",
    "l_post =gft.get_stock_factor('lowest_price_post',start_date =datetime.date(2013, 1, 1),end_date = datetime.date(2021, 8, 9))\n",
    "l_post.to_csv('lowest_price_post_0809.csv')"
   ]
  },
  {
   "cell_type": "code",
   "execution_count": null,
   "id": "1b25eea8",
   "metadata": {},
   "outputs": [],
   "source": [
    "h_post = pd.read_csv('highest_price_post_0809.csv',index_col =0)\n",
    "l_post = pd.read_csv('lowest_price_post_0809.csv',index_col =0)"
   ]
  },
  {
   "cell_type": "code",
   "execution_count": null,
   "id": "850a712c",
   "metadata": {},
   "outputs": [],
   "source": [
    "#成交金额\n",
    "amt = pd.read_csv(\"/home/hengtian/lucy/factor_service/basic_data/turnover_value.csv\",index_col = 0)\n",
    "amt = amt['2013':'2021-08-09']\n",
    "# amt = amt[ovlp]"
   ]
  },
  {
   "cell_type": "code",
   "execution_count": null,
   "id": "0d28af71",
   "metadata": {},
   "outputs": [],
   "source": [
    "close_price = pd.read_csv(\"/home/hengtian/lucy/factor_service/basic_data/close_price_post.csv\",index_col = 0)\n",
    "close_price = close_price['2013':'2021-08-09']\n",
    "close_prie= close_price.replace(0,np.nan)"
   ]
  },
  {
   "cell_type": "code",
   "execution_count": null,
   "id": "ae37f96e",
   "metadata": {},
   "outputs": [],
   "source": [
    "op_price = pd.read_csv(\"/home/hengtian/lucy/factor_service/basic_data/open_price_post.csv\",index_col = 0)\n",
    "op_price= op_price.replace(0,np.nan)"
   ]
  },
  {
   "cell_type": "code",
   "execution_count": null,
   "id": "b17965eb",
   "metadata": {},
   "outputs": [],
   "source": [
    "#涨跌幅\n",
    "n_pct = close_price/close_price.shift(1)-1"
   ]
  },
  {
   "cell_type": "code",
   "execution_count": null,
   "id": "843255bb",
   "metadata": {},
   "outputs": [],
   "source": [
    "#最高涨幅\n",
    "h_post.index=close_price.index\n",
    "max_pct =h_post/close_price.shift(1)-1"
   ]
  },
  {
   "cell_type": "code",
   "execution_count": null,
   "id": "200ada07",
   "metadata": {},
   "outputs": [],
   "source": [
    "# 当天最高价/20日内最低价\n",
    "min_20 = l_post.rolling(20,min_periods = 10).min()\n",
    "high_vs_20 = h_post/min_20.shift(1)"
   ]
  },
  {
   "cell_type": "code",
   "execution_count": null,
   "id": "12bd8999",
   "metadata": {},
   "outputs": [],
   "source": [
    "high_vs_20.index=close_price.index"
   ]
  },
  {
   "cell_type": "code",
   "execution_count": null,
   "id": "07533781",
   "metadata": {},
   "outputs": [],
   "source": [
    "#40日avg\n",
    "forty_avg = close_price.rolling(40,min_periods =20).mean()\n",
    "#收盘价大于40日均线\n",
    "close_vs_forty= close_price/forty_avg.shift(1)"
   ]
  },
  {
   "cell_type": "code",
   "execution_count": null,
   "id": "7c9589ab",
   "metadata": {},
   "outputs": [],
   "source": [
    "#当日和前5日均量\n",
    "amt= amt.replace(0,np.nan)\n",
    "amt = amt.shift(-1)\n",
    "amt_5_avg = amt.rolling(5,min_periods=3).mean()\n",
    "amt_past5 = amt/amt_5_avg.shift(1)"
   ]
  },
  {
   "cell_type": "code",
   "execution_count": null,
   "id": "60308ddb",
   "metadata": {},
   "outputs": [],
   "source": [
    "# 当天收盘vs当天开盘\n",
    "in_day = close_price/op_price"
   ]
  },
  {
   "cell_type": "code",
   "execution_count": null,
   "id": "a50faaea",
   "metadata": {},
   "outputs": [],
   "source": [
    "comp_dict ={\n",
    "    'max_pct':max_pct,\n",
    "    'close_vs_forty':close_vs_forty,\n",
    "    'high_vs_20':high_vs_20,\n",
    "    'amt_past5':amt_past5,\n",
    "    'in_day':in_day\n",
    "}"
   ]
  },
  {
   "cell_type": "code",
   "execution_count": null,
   "id": "39603e57",
   "metadata": {},
   "outputs": [],
   "source": [
    "\"\"\"\n",
    "结合所有的特征\n",
    "\"\"\"\n",
    "og = n_pct.unstack().rename('n_pct')\n",
    "df = pd.DataFrame(og).reset_index()\n",
    "df.columns = ['stock_code','date','n_pct']\n",
    "for comp_name,comp_df in comp_dict.items():\n",
    "    temp =comp_df.unstack().rename(comp_name)\n",
    "    temp.index.names = ['stock_code','date']\n",
    "#     print(temp)\n",
    "    df = pd.merge(df,temp.reset_index(),how = 'left',on = ['stock_code','date'])\n",
    "#     print(df)\n",
    "#     break"
   ]
  },
  {
   "cell_type": "code",
   "execution_count": null,
   "id": "07105e99",
   "metadata": {},
   "outputs": [],
   "source": [
    "\"\"\"\n",
    "选取所有满足标志k线的股票&日期\n",
    "\"\"\"\n",
    "df.loc[(df['n_pct']>0.02)&(df['max_pct']>0.03)&(df['in_day']>1)&(df['close_vs_forty']>1)&(df['amt_past5']>0.6)&(df['high_vs_20']>1.2), 'is_k'] = 1"
   ]
  },
  {
   "cell_type": "code",
   "execution_count": null,
   "id": "2663038a",
   "metadata": {},
   "outputs": [],
   "source": [
    "k_line =df[df.k_line==1]"
   ]
  },
  {
   "cell_type": "code",
   "execution_count": 17,
   "id": "73d81b75",
   "metadata": {},
   "outputs": [],
   "source": [
    "factors =pd.read_csv('factors.csv')"
   ]
  },
  {
   "cell_type": "code",
   "execution_count": 20,
   "id": "dd89314a",
   "metadata": {},
   "outputs": [],
   "source": [
    "is_k =pd.pivot_table(factors,values = 'k_line',index='date',columns = 'stock_code',dropna= True).sort_index()"
   ]
  },
  {
   "cell_type": "code",
   "execution_count": 25,
   "id": "54d970d0",
   "metadata": {},
   "outputs": [],
   "source": [
    "intval =pd.pivot_table(factors,values = 'interval_days',index='date',columns = 'stock_code',dropna= True).sort_index()"
   ]
  },
  {
   "cell_type": "code",
   "execution_count": 78,
   "id": "5cf6ddad",
   "metadata": {},
   "outputs": [],
   "source": [
    "\"\"\"\n",
    "针对is_k的dataframe，找到间隔日期\n",
    "\"\"\"\n",
    "def find_kday(stock,q):\n",
    "    temp_f =is_k[stock]\n",
    "    temp_s = temp_f[temp_f==1].reset_index()\n",
    "    if len(temp_s)>0:\n",
    "        sig = []\n",
    "        for date in list(temp_f.index):\n",
    "            try:\n",
    "                sig_day = temp_s[temp_s.date<=date].iloc[-1].values[0]\n",
    "    #             print(sig_day)\n",
    "                intval = len(is_k.loc[sig_day:date])-1\n",
    "                sig.append(intval)\n",
    "            except IndexError:\n",
    "                sig.append(np.nan)\n",
    "        sig = pd.DataFrame(sig,index = is_k.index,columns = [stock])\n",
    "    else:\n",
    "        sig =pd.DataFrame(np.nan, index=is_k.index, columns=[stock])\n",
    "    return q.put({stock:sig})\n",
    "#     return sig"
   ]
  },
  {
   "cell_type": "code",
   "execution_count": 79,
   "id": "9ce17809",
   "metadata": {},
   "outputs": [],
   "source": [
    "elements = multi_process(is_k.columns,find_kday,20)\n",
    "elmts =[]\n",
    "for i in range(len(elements)):\n",
    "    stock = list(elements[i].keys())[0]\n",
    "    exp = elements[i][stock]\n",
    "    elmts.append(exp)\n",
    "intval_days = pd.concat(elmts,axis =1)"
   ]
  },
  {
   "cell_type": "code",
   "execution_count": null,
   "id": "0ddbb93d",
   "metadata": {},
   "outputs": [],
   "source": []
  },
  {
   "cell_type": "code",
   "execution_count": 113,
   "id": "0a4ead63",
   "metadata": {},
   "outputs": [],
   "source": [
    "\"\"\"\n",
    "当天距离标志K线的最高涨幅（区间最高价/标志K线收盘价）\n",
    "需要is_k & k_close_price_post & h_post  三个dataframe\n",
    "\"\"\"\n",
    "\n",
    "def find_max_chg(stock,q):\n",
    "    temp = is_k[is_k.stock_code==stock]\n",
    "    temp_k =temp[temp==1].reset_index()\n",
    "    k_price = k_close_price_post[stock]\n",
    "    if len(temp_k)>0:\n",
    "        begin =list(temp_k.date)[0]\n",
    "        temp_max =[]\n",
    "        for date in temp.date:\n",
    "            if date<begin:\n",
    "                temp_max.append(np.nan)\n",
    "            else:\n",
    "                kday =temp_k[temp_k.date<=date].iloc[-1].values[0]\n",
    "                if date==kday:\n",
    "                    temp_max.append(np.nan)\n",
    "                else:\n",
    "                    nxt = list(h_post.index).index(kday)+1\n",
    "                    nxtday =list(h_post.index)[nxt]\n",
    "                    t_max =h_post[stock].loc[nxtday:date].max()/k_price.loc[nxtday].values\n",
    "                    temp_max.append(t_max)\n",
    "        temp_max = pd.DataFrame(temp_max,index=is_k.index, columns=[stock])\n",
    "    else:\n",
    "        temp_max =pd.DataFrame(np.nan, index=is_k.index, columns=[stock])\n",
    "    return q.put({stock:temp_max})"
   ]
  },
  {
   "cell_type": "code",
   "execution_count": null,
   "id": "7068b380",
   "metadata": {},
   "outputs": [],
   "source": [
    "elements = multi_process(is_k.columns,find_max_chg,30)"
   ]
  },
  {
   "cell_type": "code",
   "execution_count": null,
   "id": "9055a1f0",
   "metadata": {},
   "outputs": [],
   "source": [
    "elmts =[]\n",
    "for i in range(len(elements)):\n",
    "    stock = list(elements[i].keys())[0]\n",
    "    exp = elements[i][stock]\n",
    "    t_df =pd.DataFrame(exp)\n",
    "#     print(t_df)\n",
    "    elmts.append(t_df)\n",
    "max_chg =pd.concat(elmts,axis =1)"
   ]
  },
  {
   "cell_type": "code",
   "execution_count": null,
   "id": "545e7de7",
   "metadata": {},
   "outputs": [],
   "source": [
    "\"\"\"\n",
    "当天距离标志K线的最低涨幅（区间最低价/标志K线收盘价）\n",
    "\"\"\"\n",
    "def find_min_chg(stock,q):\n",
    "    temp = is_k[is_k.stock_code==stock]\n",
    "    temp_k =temp[temp==1].reset_index()\n",
    "    k_price = k_close_price_post[stock]\n",
    "    if len(temp_k)>0:\n",
    "        begin =list(temp_k.date)[0]\n",
    "        temp_max =[]\n",
    "        for date in temp.date:\n",
    "            if date<begin:\n",
    "                temp_min.append(np.nan)\n",
    "            else:\n",
    "                kday =temp_k[temp_k.date<=date].iloc[-1].values[1]\n",
    "                if date==kday:\n",
    "                    temp_min.append(np.nan)\n",
    "                else:\n",
    "                    nxt = list(l_post.index).index(kday)+1\n",
    "                    nxtday =list(l_post.index)[nxt]\n",
    "                    t_min =l_post[stock].loc[nxtday:date].min()/k_price.loc[nxtday].values\n",
    "                    temp_min.append(t_min)\n",
    "        temp_min = pd.DataFrame(temp_min,index=is_k.index, columns=[stock])\n",
    "    else:\n",
    "        temp_min =pd.DataFrame(np.nan, index=is_k.index, columns=[stock])\n",
    "    return q.put({stock:temp_min})"
   ]
  },
  {
   "cell_type": "code",
   "execution_count": null,
   "id": "cf683def",
   "metadata": {},
   "outputs": [],
   "source": [
    "elements = multi_process(set(is_k.columns),find_min_chg,30)"
   ]
  },
  {
   "cell_type": "code",
   "execution_count": null,
   "id": "9be8e5b7",
   "metadata": {},
   "outputs": [],
   "source": [
    "elmts =[]\n",
    "for i in range(len(elements)):\n",
    "    stock = list(elements[i].keys())[0]\n",
    "    exp = elements[i][stock]\n",
    "    t_df =pd.DataFrame(exp)\n",
    "#     print(t_df)\n",
    "    elmts.append(t_df)\n",
    "min_chg =pd.concat(elmts,axis =1)"
   ]
  },
  {
   "cell_type": "markdown",
   "id": "1a8d4145",
   "metadata": {},
   "source": [
    "# 标志K线收盘价和20、40均线乖离率"
   ]
  },
  {
   "cell_type": "code",
   "execution_count": null,
   "id": "12180ec4",
   "metadata": {},
   "outputs": [],
   "source": [
    "avg20 =close_price.rolling(20,min_periods =10).mean()\n",
    "avg20 = avg20.shift(1)\n",
    "avg40 = close_price.rolling(40,min_periods =20).mean()\n",
    "avg40 =avg40.shift(1)"
   ]
  },
  {
   "cell_type": "code",
   "execution_count": null,
   "id": "e070484a",
   "metadata": {},
   "outputs": [],
   "source": [
    "avg20 = avg20.unstack().reset_index()\n",
    "avg20.columns =['stock_code','date','avg_20']\n",
    "avg40 = avg40.unstack().reset_index()\n",
    "avg40.columns =['stock_code','date','avg_40']"
   ]
  },
  {
   "cell_type": "code",
   "execution_count": null,
   "id": "5c8b6f6e",
   "metadata": {},
   "outputs": [],
   "source": [
    "k_line1 = k_line.merge(avg20,how = 'left',on =['stock_code','date'])\n",
    "k_line1 = k_line1.merge(avg40,how = 'left',on =['stock_code','date'])"
   ]
  },
  {
   "cell_type": "code",
   "execution_count": null,
   "id": "ca929285",
   "metadata": {},
   "outputs": [],
   "source": [
    "k_line1['20_dev'] =k_line1['k_close_price']/k_line1['avg_20']\n",
    "k_line1['40_dev'] =k_line1['k_close_price']/k_line1['avg_40']\n",
    "k_line1"
   ]
  },
  {
   "cell_type": "code",
   "execution_count": null,
   "id": "be9ff03b",
   "metadata": {},
   "outputs": [],
   "source": [
    "def fill_fwd(stock,q):\n",
    "    temp =dfv5[dfv5.stock_code ==stock]\n",
    "    temp_k =k_line1[k_line1.stock_code==stock]\n",
    "    cbn =temp.merge(temp_k[['stock_code','date','avg_20','avg_40','20_dev','40_dev']],how ='left',on =['stock_code','date'])\n",
    "    cbn['avg_20'].fillna(method='ffill',inplace = True)\n",
    "    cbn['avg_40'].fillna(method='ffill',inplace = True)\n",
    "    cbn['20_dev'].fillna(method='ffill',inplace = True)\n",
    "    cbn['40_dev'].fillna(method='ffill',inplace = True)\n",
    "    return q.put({stock:cbn})"
   ]
  },
  {
   "cell_type": "code",
   "execution_count": null,
   "id": "d6da4372",
   "metadata": {},
   "outputs": [],
   "source": [
    "elements = multi_process(set(k_line.stock_code),fill_fwd,30)"
   ]
  },
  {
   "cell_type": "code",
   "execution_count": null,
   "id": "5a8b19d3",
   "metadata": {},
   "outputs": [],
   "source": [
    "elmts =[]\n",
    "for i in range(len(elements)):\n",
    "    stock = list(elements[i].keys())[0]\n",
    "    exp = elements[i][stock]\n",
    "    elmts.append(exp)"
   ]
  },
  {
   "cell_type": "code",
   "execution_count": null,
   "id": "e772e1a1",
   "metadata": {},
   "outputs": [],
   "source": [
    "test = pd.concat(elmts)"
   ]
  },
  {
   "cell_type": "code",
   "execution_count": null,
   "id": "84ca9615",
   "metadata": {},
   "outputs": [],
   "source": [
    "test[test.stock_code=='000001.XSHE'].head(50)"
   ]
  },
  {
   "cell_type": "code",
   "execution_count": null,
   "id": "fa90cb72",
   "metadata": {},
   "outputs": [],
   "source": [
    "dfv6 = dfv5.merge(test[['stock_code','date','20_dev','40_dev']],how = 'left',on = ['stock_code','date'])"
   ]
  },
  {
   "cell_type": "markdown",
   "id": "a2b5ff46",
   "metadata": {},
   "source": [
    "# 标志K线均线变异系数"
   ]
  },
  {
   "cell_type": "code",
   "execution_count": null,
   "id": "441e3fb3",
   "metadata": {},
   "outputs": [],
   "source": [
    "std_5 = close_price.rolling(5,min_periods =3).std()\n",
    "std_5 = std_5.shift(1)\n",
    "std_10 = close_price.rolling(10,min_periods =5).std()\n",
    "std_10 = std_10.shift(1)\n",
    "std_20 = close_price.rolling(20,min_periods =10).std()\n",
    "std_20 = std_20.shift(1)\n",
    "std_40=close_price.rolling(40,min_periods =20).std()\n",
    "std_40 = std_40.shift(1)\n",
    "std_60= close_price.rolling(60,min_periods =30).std()\n",
    "std_60 = std_60.shift(1)"
   ]
  },
  {
   "cell_type": "code",
   "execution_count": null,
   "id": "076e2882",
   "metadata": {},
   "outputs": [],
   "source": [
    "mean_5 = close_price.rolling(5,min_periods =3).mean()\n",
    "mean_5 = mean_5.shift(1)\n",
    "mean_10 = close_price.rolling(10,min_periods =5).mean()\n",
    "mean_10 = mean_10.shift(1)\n",
    "mean_20 = close_price.rolling(20,min_periods =10).mean()\n",
    "mean_20 = mean_20.shift(1)\n",
    "mean_40=close_price.rolling(40,min_periods =20).mean()\n",
    "mean_40 = mean_40.shift(1)\n",
    "mean_60= close_price.rolling(60,min_periods =30).mean()\n",
    "mean_60 = mean_60.shift(1)"
   ]
  },
  {
   "cell_type": "code",
   "execution_count": null,
   "id": "64ea6efe",
   "metadata": {},
   "outputs": [],
   "source": [
    "coeff_dev5 =std_5/mean_5"
   ]
  },
  {
   "cell_type": "code",
   "execution_count": null,
   "id": "b5afd848",
   "metadata": {},
   "outputs": [],
   "source": [
    "coeff_dev10 =std_10/mean_10"
   ]
  },
  {
   "cell_type": "code",
   "execution_count": null,
   "id": "baa94d68",
   "metadata": {},
   "outputs": [],
   "source": [
    "coeff_dev20 =std_20/mean_20"
   ]
  },
  {
   "cell_type": "code",
   "execution_count": null,
   "id": "d67c80cc",
   "metadata": {},
   "outputs": [],
   "source": [
    "coeff_dev40 =std_40/mean_40"
   ]
  },
  {
   "cell_type": "code",
   "execution_count": null,
   "id": "302202d3",
   "metadata": {},
   "outputs": [],
   "source": [
    "coeff_dev60 =std_60/mean_60"
   ]
  },
  {
   "cell_type": "code",
   "execution_count": null,
   "id": "3a35cda5",
   "metadata": {},
   "outputs": [],
   "source": [
    "coeff_dev5 = coeff_dev5.unstack().reset_index()\n",
    "coeff_dev5.columns =['stock_code','date','coeff_dev5']"
   ]
  },
  {
   "cell_type": "code",
   "execution_count": null,
   "id": "363f9521",
   "metadata": {},
   "outputs": [],
   "source": [
    "data =coeff_dev5.copy()\n",
    "comp = {\n",
    "    'coeff_dev10':coeff_dev10,\n",
    "    'coeff_dev20':coeff_dev20,\n",
    "    'coeff_dev40':coeff_dev40,\n",
    "    'coeff_dev60':coeff_dev60,\n",
    "}"
   ]
  },
  {
   "cell_type": "code",
   "execution_count": null,
   "id": "2ea6c350",
   "metadata": {},
   "outputs": [],
   "source": [
    "for comp_name,comp_df in comp.items():\n",
    "    temp =comp_df.unstack().rename(comp_name)\n",
    "    temp.index.names = ['stock_code','date']\n",
    "#     print(temp)\n",
    "    data = pd.merge(data,temp.reset_index(),how = 'left',on = ['stock_code','date'])"
   ]
  },
  {
   "cell_type": "code",
   "execution_count": null,
   "id": "51c4b122",
   "metadata": {},
   "outputs": [],
   "source": [
    "k_line2 = k_line1.merge(data[['stock_code','date','coeff_dev5','coeff_dev10','coeff_dev20','coeff_dev40','coeff_dev60']],how = 'left',on = ['stock_code','date'])"
   ]
  },
  {
   "cell_type": "code",
   "execution_count": null,
   "id": "3d619f44",
   "metadata": {},
   "outputs": [],
   "source": [
    "dfv6 = pd.read_csv('oval_dataframe.csv',index_col = 0)\n",
    "k_line2 = pd.read_csv('k_line_ftr.csv',index_col =0)"
   ]
  },
  {
   "cell_type": "code",
   "execution_count": 12,
   "id": "9014d078",
   "metadata": {},
   "outputs": [],
   "source": [
    "\"\"\"\n",
    "根据每只股票fill forward\n",
    "\"\"\"\n",
    "def ffill_stock(stock,q):\n",
    "    temp = dfv6[dfv6.stock_code==stock]\n",
    "    att = k_line2[k_line2.stock_code==stock]\n",
    "    s_df = temp.merge(att[['stock_code','date','k_coeff']],how = 'left',on = ['stock_code','date'])\n",
    "    s_df['k_coeff'].fillna(method = 'ffill',inplace =True)\n",
    "    return q.put({stock:s_df})"
   ]
  },
  {
   "cell_type": "code",
   "execution_count": null,
   "id": "9ba1b341",
   "metadata": {},
   "outputs": [],
   "source": [
    "elements = multi_process(set(k_line2.stock_code),ffill_stock,30)"
   ]
  },
  {
   "cell_type": "code",
   "execution_count": null,
   "id": "19085719",
   "metadata": {},
   "outputs": [],
   "source": [
    "elmts =[]\n",
    "for i in range(len(elements)):\n",
    "    stock = list(elements[i].keys())[0]\n",
    "    exp = elements[i][stock]\n",
    "    elmts.append(exp)"
   ]
  },
  {
   "cell_type": "code",
   "execution_count": null,
   "id": "0176a0b6",
   "metadata": {},
   "outputs": [],
   "source": [
    "dfv10 = pd.concat(elmts)"
   ]
  },
  {
   "cell_type": "code",
   "execution_count": null,
   "id": "873a1d60",
   "metadata": {},
   "outputs": [],
   "source": [
    "dfv10.to_csv('oval_dataframe.csv')\n",
    "# k_line2.to_csv('k_line_ftr.csv')"
   ]
  },
  {
   "cell_type": "code",
   "execution_count": null,
   "id": "3ac7deb5",
   "metadata": {},
   "outputs": [],
   "source": [
    "k_line2['k_coeff'] = k_line2[['coeff_dev5','coeff_dev10','coeff_dev20','coeff_dev40','coeff_dev60']].std(axis =1,skipna = False)/ k_line2[['coeff_dev5','coeff_dev10','coeff_dev20','coeff_dev40','coeff_dev60']].mean(axis =1,skipna = False)"
   ]
  },
  {
   "cell_type": "code",
   "execution_count": null,
   "id": "4d3b7d4c",
   "metadata": {},
   "outputs": [],
   "source": [
    "k_line2.drop('k_coeff',axis =1,inplace = True)"
   ]
  },
  {
   "cell_type": "code",
   "execution_count": null,
   "id": "ecf6f1d5",
   "metadata": {},
   "outputs": [],
   "source": [
    "factors = dfv10[['stock_code','date','k_line','interval_days','k_chg','max_chg','min_chg','20_dev','40_dev','k_coeff']]"
   ]
  },
  {
   "cell_type": "code",
   "execution_count": null,
   "id": "01afaaa6",
   "metadata": {},
   "outputs": [],
   "source": [
    "factors.to_csv('factors.csv')"
   ]
  }
 ],
 "metadata": {
  "hide_input": false,
  "kernelspec": {
   "display_name": "Python [conda env:lucy]",
   "language": "python",
   "name": "conda-env-lucy-py"
  },
  "language_info": {
   "codemirror_mode": {
    "name": "ipython",
    "version": 3
   },
   "file_extension": ".py",
   "mimetype": "text/x-python",
   "name": "python",
   "nbconvert_exporter": "python",
   "pygments_lexer": "ipython3",
   "version": "3.7.4"
  },
  "toc": {
   "base_numbering": 1,
   "nav_menu": {},
   "number_sections": true,
   "sideBar": true,
   "skip_h1_title": false,
   "title_cell": "Table of Contents",
   "title_sidebar": "Contents",
   "toc_cell": false,
   "toc_position": {},
   "toc_section_display": true,
   "toc_window_display": false
  }
 },
 "nbformat": 4,
 "nbformat_minor": 5
}
