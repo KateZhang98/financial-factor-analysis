{
 "cells": [
  {
   "cell_type": "code",
   "execution_count": 1,
   "id": "2f4f7d29",
   "metadata": {},
   "outputs": [],
   "source": [
    "import datetime\n",
    "import time\n",
    "import sys\n",
    "sys.path.append(r'/home/hengtian/lucy/factor-analyzer-v4/')\n",
    "import pymysql\n",
    "import matplotlib.pyplot as plt\n",
    "import pandas as pd\n",
    "import numpy as np\n",
    "import multiprocessing\n",
    "import os\n",
    "import queue\n",
    "import tqdm\n",
    "# from src import data \n",
    "# from src import analyzer\n",
    "sys.path.append(os.path.abspath('/home/hengtian/kate/'))\n",
    "import get_factor_tools as gft\n",
    "# import datetime as dt\n",
    "\n",
    "import plotly.graph_objects as go\n",
    "from plotly.subplots import make_subplots\n",
    "\n",
    "# import cufflinks as cf\n",
    "# cf.go_offline()\n",
    "\n",
    "sys.path.append(r'/home/hengtian/lucy/PortfolioOptimizer/')\n",
    "from PortfolioOptimizerMaster.src import tools\n",
    "\n",
    "from sklearn.model_selection import TimeSeriesSplit\n",
    "from sklearn.metrics import r2_score, mean_squared_error\n",
    "from sklearn.linear_model import LinearRegression"
   ]
  },
  {
   "cell_type": "code",
   "execution_count": null,
   "id": "fe252394",
   "metadata": {},
   "outputs": [],
   "source": [
    "#近N个交易日内出现技术指标信号（N=60）\n",
    "#技术指标信号日到今日的涨跌幅\n",
    "# 一致预期、投资评级变动、未来增速、长研报因子值\n",
    "# 当前单季成长、前一期单季成长因子值\n",
    "#护城河因子值"
   ]
  },
  {
   "cell_type": "code",
   "execution_count": 148,
   "id": "6c33da69",
   "metadata": {},
   "outputs": [],
   "source": [
    "def multi_process(stock_list, func,pro_num):\n",
    "    q = multiprocessing.Manager().Queue()\n",
    "    param = []\n",
    "    for stock in stock_list:\n",
    "        param.append((stock,q))\n",
    "    # print(param)\n",
    "    #task\n",
    "    with multiprocessing.Pool(processes =pro_num) as pool:\n",
    "        pool.starmap(func,param)\n",
    "\n",
    "    #extract\n",
    "    elements = []\n",
    "    while q.qsize():\n",
    "        elements.append(q.get())\n",
    "    return elements"
   ]
  },
  {
   "cell_type": "markdown",
   "id": "c0d745eb",
   "metadata": {},
   "source": [
    "# 基本面因子"
   ]
  },
  {
   "cell_type": "code",
   "execution_count": 2,
   "id": "b55118af",
   "metadata": {},
   "outputs": [
    {
     "name": "stderr",
     "output_type": "stream",
     "text": [
      "/home/hengtian/anaconda3/envs/lucy/lib/python3.7/site-packages/numpy/lib/arraysetops.py:583: FutureWarning: elementwise comparison failed; returning scalar instead, but in the future will perform elementwise comparison\n",
      "  mask |= (ar1 == a)\n"
     ]
    }
   ],
   "source": [
    "\"\"\"\n",
    "df = 所有信号日的技术指标\n",
    "oval = 每只股票每天的技术指标\n",
    "\"\"\"\n",
    "#每个日期往后找60个交易日\n",
    "df=pd.read_csv('/home/hengtian/kate/signal/quant_signal/feature_selected_v7.csv',index_col =0)\n",
    "oval = pd.read_csv('/home/hengtian/kate/signal/feature_selection/feature_selection_v4.csv',index_col =0)"
   ]
  },
  {
   "cell_type": "code",
   "execution_count": 5,
   "id": "8794a000",
   "metadata": {},
   "outputs": [],
   "source": [
    "ovlp = list(set(df['stock_code']))"
   ]
  },
  {
   "cell_type": "code",
   "execution_count": 3,
   "id": "9eb5ccd6",
   "metadata": {},
   "outputs": [],
   "source": [
    "#一致预期变动y1\n",
    "npc_y1 = pd.read_csv('/home/hengtian/kate/signal/data/npc_y1.csv',index_col=0)\n",
    "#一致预期变动y2\n",
    "npc_y2 = pd.read_csv('/home/hengtian/kate/signal/data/npc_y2.csv',index_col=0)\n",
    "#投资评级变动\n",
    "rate = pd.read_csv('/home/hengtian/kate/signal/data/rate.csv',index_col=0)\n",
    "#护城河因子\n",
    "moat = pd.read_csv('/home/hengtian/kate/signal/data/moat.csv',index_col=0)\n",
    "#未来增速\n",
    "np_g1 = pd.read_csv('/home/hengtian/kate/signal/data/np_g1.csv',index_col=0)"
   ]
  },
  {
   "cell_type": "code",
   "execution_count": 4,
   "id": "ea9f28b8",
   "metadata": {},
   "outputs": [],
   "source": [
    "lr = pd.read_csv('/home/hengtian/kate/signal/data/lr.csv',index_col=0)\n",
    "#当前单季成长\n",
    "growth_cur = pd.read_csv('/home/hengtian/kate/signal/data/growth_cur.csv',index_col=0)\n",
    "#前一期单季成长因子值\n",
    "growth_prev = pd.read_csv('/home/hengtian/kate/signal/data/growth_prev.csv',index_col=0)"
   ]
  },
  {
   "cell_type": "code",
   "execution_count": 6,
   "id": "b410f1e6",
   "metadata": {},
   "outputs": [],
   "source": [
    "lr = lr.loc['2013-01-01':]\n",
    "extra = list(set(ovlp).difference(set(lr.columns)))\n",
    "df1 = pd.DataFrame(np.empty((len(lr),len(extra)),dtype=object),columns = extra,index = lr.index)\n",
    "lr = pd.concat([lr,df1],axis =1)"
   ]
  },
  {
   "cell_type": "code",
   "execution_count": 7,
   "id": "e1274a4e",
   "metadata": {},
   "outputs": [],
   "source": [
    "npc_rank = pd.read_csv('/home/hengtian/kate/signal/data/basic_rank/npc_rank.csv',index_col=0)"
   ]
  },
  {
   "cell_type": "code",
   "execution_count": 8,
   "id": "84fe3e82",
   "metadata": {},
   "outputs": [],
   "source": [
    "npcy2_rank = pd.read_csv('/home/hengtian/kate/signal/data/basic_rank/npcy2_rank.csv',index_col=0)"
   ]
  },
  {
   "cell_type": "code",
   "execution_count": 9,
   "id": "12490475",
   "metadata": {},
   "outputs": [],
   "source": [
    "np_g1_rank = pd.read_csv('/home/hengtian/kate/signal/data/basic_rank/np_g1_rank.csv',index_col=0)"
   ]
  },
  {
   "cell_type": "code",
   "execution_count": 10,
   "id": "c59a481d",
   "metadata": {},
   "outputs": [],
   "source": [
    "moat_rank = pd.read_csv('/home/hengtian/kate/signal/data/basic_rank/moat_rank.csv',index_col=0)"
   ]
  },
  {
   "cell_type": "code",
   "execution_count": 11,
   "id": "118b5a77",
   "metadata": {},
   "outputs": [],
   "source": [
    "rate_rank = pd.read_csv('/home/hengtian/kate/signal/data/basic_rank/rate_rank.csv',index_col=0)"
   ]
  },
  {
   "cell_type": "code",
   "execution_count": 12,
   "id": "b7a0723d",
   "metadata": {},
   "outputs": [],
   "source": [
    "lr_rank = pd.read_csv('/home/hengtian/kate/signal/data/basic_rank/lr_rank.csv',index_col=0)"
   ]
  },
  {
   "cell_type": "code",
   "execution_count": 13,
   "id": "7bfeaf56",
   "metadata": {},
   "outputs": [],
   "source": [
    "lr_rank = lr_rank.loc['2013-01-01':]\n",
    "extra = list(set(ovlp).difference(set(lr_rank.columns)))\n",
    "df1 = pd.DataFrame(np.empty((len(lr_rank),len(extra)),dtype=object),columns = extra,index = lr_rank.index)\n",
    "lr_rank = pd.concat([lr_rank,df1],axis =1)"
   ]
  },
  {
   "cell_type": "code",
   "execution_count": 14,
   "id": "d81a1199",
   "metadata": {},
   "outputs": [],
   "source": [
    "growth_prev_rank = pd.read_csv('/home/hengtian/kate/signal/data/basic_rank/growth_prev_rank.csv',index_col=0)"
   ]
  },
  {
   "cell_type": "code",
   "execution_count": 15,
   "id": "c8228402",
   "metadata": {},
   "outputs": [],
   "source": [
    "growth_cur_rank = pd.read_csv('/home/hengtian/kate/signal/data/basic_rank/growth_cur_rank.csv',index_col=0)"
   ]
  },
  {
   "cell_type": "code",
   "execution_count": 16,
   "id": "8b21eef3",
   "metadata": {},
   "outputs": [],
   "source": [
    "npc_y1 = npc_y1[ovlp]\n",
    "npc_y2 =npc_y2[ovlp]\n",
    "rate = rate[ovlp]\n",
    "moat = moat[ovlp]\n",
    "np_g1=np_g1[ovlp]"
   ]
  },
  {
   "cell_type": "code",
   "execution_count": 17,
   "id": "bfd2f513",
   "metadata": {},
   "outputs": [],
   "source": [
    "growth_cur =growth_cur[ovlp]\n",
    "growth_prev = growth_prev[ovlp]"
   ]
  },
  {
   "cell_type": "code",
   "execution_count": 18,
   "id": "6993121c",
   "metadata": {},
   "outputs": [],
   "source": [
    "npc_rank = npc_rank[ovlp]\n",
    "npcy2_rank = npcy2_rank[ovlp]\n",
    "np_g1_rank=np_g1_rank[ovlp]\n",
    "moat_rank=moat_rank[ovlp]\n",
    "rate_rank=rate_rank[ovlp]\n",
    "lr_rank=lr_rank[ovlp]\n",
    "growth_prev_rank=growth_prev_rank[ovlp]\n",
    "growth_cur_rank=growth_cur_rank[ovlp]"
   ]
  },
  {
   "cell_type": "code",
   "execution_count": 19,
   "id": "36f47d37",
   "metadata": {},
   "outputs": [],
   "source": [
    "lr = lr[ovlp]"
   ]
  },
  {
   "cell_type": "code",
   "execution_count": 20,
   "id": "9189e821",
   "metadata": {},
   "outputs": [],
   "source": [
    "lr.replace(to_replace=[None], value=np.nan, inplace=True)"
   ]
  },
  {
   "cell_type": "code",
   "execution_count": 21,
   "id": "ef6211a2",
   "metadata": {},
   "outputs": [],
   "source": [
    "df=df.rename(columns={'stock_code':'stock','date':'dates'})\n",
    "oval = oval.rename(columns={'stock_code':'stock','date':'dates'})"
   ]
  },
  {
   "cell_type": "markdown",
   "id": "18df35d7",
   "metadata": {},
   "source": [
    "# 找到信号日后90天"
   ]
  },
  {
   "cell_type": "code",
   "execution_count": 22,
   "id": "8677c725",
   "metadata": {},
   "outputs": [],
   "source": [
    "def find_days(stock,q):\n",
    "    temp=df[df.stock==stock]\n",
    "    atemp = oval[oval.stock==stock]\n",
    "    all_days=[]\n",
    "    for date in temp.dates:\n",
    "        pos = list(atemp.dates.values).index(date)\n",
    "        try:\n",
    "            d=list(atemp.dates.values)[pos:pos+90]\n",
    "        except IndexError:\n",
    "            d = list(atemp.dates.values)[pos:]\n",
    "        all_days+=d\n",
    "    all_days = list(set(all_days))\n",
    "    return q.put({stock:all_days})"
   ]
  },
  {
   "cell_type": "code",
   "execution_count": 23,
   "id": "4f4db04f",
   "metadata": {},
   "outputs": [],
   "source": [
    "elements = multi_process(set(df.stock),find_days,20)"
   ]
  },
  {
   "cell_type": "code",
   "execution_count": 24,
   "id": "04b8f96c",
   "metadata": {},
   "outputs": [
    {
     "name": "stderr",
     "output_type": "stream",
     "text": [
      "IOPub data rate exceeded.\n",
      "The notebook server will temporarily stop sending output\n",
      "to the client in order to avoid crashing it.\n",
      "To change this limit, set the config variable\n",
      "`--NotebookApp.iopub_data_rate_limit`.\n",
      "\n",
      "Current values:\n",
      "NotebookApp.iopub_data_rate_limit=1000000.0 (bytes/sec)\n",
      "NotebookApp.rate_limit_window=3.0 (secs)\n",
      "\n"
     ]
    }
   ],
   "source": [
    "final ={}\n",
    "for i in range(len(elements)):\n",
    "    stock = list(elements[i].keys())[0]\n",
    "    dates = elements[i][stock]\n",
    "    final[stock]=dates"
   ]
  },
  {
   "cell_type": "code",
   "execution_count": 25,
   "id": "1f7f8e9d",
   "metadata": {},
   "outputs": [],
   "source": [
    "comp_dict= {\n",
    "    'npc_y1':npc_y1,\n",
    "    'npc_rank':npc_rank,\n",
    "    'npc_y2':npc_y2,\n",
    "    'npcy2_rank':npcy2_rank,\n",
    "    'rate':rate,\n",
    "    'rate_rank':rate_rank,\n",
    "    'moat':moat,\n",
    "    'moat_rank':moat_rank,\n",
    "    'np_g1':np_g1,\n",
    "    'np_g1_rank':np_g1_rank,\n",
    "    'lr':lr,\n",
    "    'lr_rank':lr_rank,\n",
    "    'growth_cur':growth_cur,\n",
    "    'growth_cur_rank':growth_cur_rank,\n",
    "    'growth_prev':growth_prev,\n",
    "    'growth_prev_rank':growth_prev_rank\n",
    "}"
   ]
  },
  {
   "cell_type": "code",
   "execution_count": 26,
   "id": "4ca66309",
   "metadata": {},
   "outputs": [],
   "source": [
    "def find_factors(stock,q):\n",
    "    dates =sorted(final.get(stock))\n",
    "    factor = []\n",
    "    col =[]\n",
    "    for comp_name,comp_df in comp_dict.items():\n",
    "        data = comp_df[stock]\n",
    "        val = data.loc[dates]\n",
    "        factor.append(val)\n",
    "        col.append(comp_name)\n",
    "    temp = pd.concat(factor,axis = 1)\n",
    "    temp.columns = col\n",
    "    return q.put({stock:temp})\n",
    "#     return(temp)"
   ]
  },
  {
   "cell_type": "code",
   "execution_count": 27,
   "id": "f4698800",
   "metadata": {},
   "outputs": [],
   "source": [
    "elements = multi_process(final.keys(), find_factors,20)"
   ]
  },
  {
   "cell_type": "code",
   "execution_count": 28,
   "id": "ca4f779f",
   "metadata": {},
   "outputs": [],
   "source": [
    "final =[]\n",
    "for i in range(len(elements)):\n",
    "    stock = list(elements[i].keys())[0]\n",
    "    exp = elements[i][stock].reset_index().rename(columns={'index' : 'dates'})\n",
    "    exp['stock'] = [stock]*len(exp)\n",
    "    final.append(exp)"
   ]
  },
  {
   "cell_type": "code",
   "execution_count": 29,
   "id": "a98d1ae8",
   "metadata": {},
   "outputs": [],
   "source": [
    "f_df = pd.concat(final)"
   ]
  },
  {
   "cell_type": "code",
   "execution_count": null,
   "id": "49b1a1fe",
   "metadata": {},
   "outputs": [],
   "source": [
    "f_df.to_csv('basic_features_v3.csv')"
   ]
  },
  {
   "cell_type": "markdown",
   "id": "52796d35",
   "metadata": {},
   "source": [
    "# 100天前700日max & 100日min"
   ]
  },
  {
   "cell_type": "code",
   "execution_count": null,
   "id": "4d319f51",
   "metadata": {},
   "outputs": [],
   "source": [
    "# cop = df.reset_index()\n",
    "#最低价\n",
    "lowest = pd.read_csv('/home/hengtian/kate/signal/data/quant_data/lowest_post.csv',index_col=0)\n",
    "stocks = set(df.stock)\n",
    "lowest = lowest[stocks]"
   ]
  },
  {
   "cell_type": "code",
   "execution_count": null,
   "id": "fb7b094c",
   "metadata": {},
   "outputs": [],
   "source": [
    "#最高价\n",
    "highest = pd.read_csv('/home/hengtian/kate/signal/data/quant_data/highest_post.csv',index_col=0)\n",
    "stocks = set(df.stock)\n",
    "highest =highest[stocks]"
   ]
  },
  {
   "cell_type": "code",
   "execution_count": null,
   "id": "4e915176",
   "metadata": {},
   "outputs": [],
   "source": [
    "cop =df.set_index(['stock','dates'])"
   ]
  },
  {
   "cell_type": "code",
   "execution_count": null,
   "id": "39b9969d",
   "metadata": {},
   "outputs": [],
   "source": [
    "mx7 = highest.rolling(700,min_periods =300).max().shift(100).unstack().rename('max_700')\n",
    "sel_max = mx7[mx7.index.isin(cop.index)]"
   ]
  },
  {
   "cell_type": "code",
   "execution_count": null,
   "id": "a4dbd4c6",
   "metadata": {
    "scrolled": true
   },
   "outputs": [],
   "source": [
    "sel_max = sel_max.reset_index()\n",
    "# sel_max[sel_max.stock == '600410.XSHG']"
   ]
  },
  {
   "cell_type": "code",
   "execution_count": null,
   "id": "fca56b60",
   "metadata": {},
   "outputs": [],
   "source": [
    "sel_max.columns = ['stock','dates','max_700']"
   ]
  },
  {
   "cell_type": "markdown",
   "id": "b7e3571a",
   "metadata": {},
   "source": [
    "# 100日min，第二天开盘，当天收盘"
   ]
  },
  {
   "cell_type": "code",
   "execution_count": null,
   "id": "9bed131a",
   "metadata": {},
   "outputs": [],
   "source": [
    "min1 = lowest.rolling(100,min_periods =50).min().unstack().rename('min_100')\n",
    "sel_min = min1[min1.index.isin(cop.index)]"
   ]
  },
  {
   "cell_type": "code",
   "execution_count": null,
   "id": "4e4e0d38",
   "metadata": {},
   "outputs": [],
   "source": [
    "sel_min = sel_min.reset_index()\n",
    "sel_min.columns = ['stock','dates','min_100']"
   ]
  },
  {
   "cell_type": "code",
   "execution_count": null,
   "id": "bbb407d6",
   "metadata": {},
   "outputs": [],
   "source": [
    "close_price = pd.read_csv(\"/home/hengtian/lucy/factor_service/basic_data/close_price_post.csv\",index_col = 0)\n",
    "close_prie= close_price.replace(0,np.nan)\n",
    "\n",
    "close_price = close_price[:'2021-07-13']\n",
    "close_price = close_price[stocks]\n",
    "close = close_price.unstack()\n",
    "close_price = close[close.index.isin(cop.index)]"
   ]
  },
  {
   "cell_type": "code",
   "execution_count": null,
   "id": "d45a120c",
   "metadata": {},
   "outputs": [],
   "source": [
    "close_price = close_price.reset_index()\n",
    "close_price.columns=['stock','dates','close_price']"
   ]
  },
  {
   "cell_type": "code",
   "execution_count": null,
   "id": "0c8848fc",
   "metadata": {},
   "outputs": [],
   "source": [
    "sig_dict = {\n",
    "    'max_700':sel_max,\n",
    "    'min_100':sel_min,\n",
    "    'close_price':close_price,\n",
    "#     'days_btw_max':final_m,\n",
    "}"
   ]
  },
  {
   "cell_type": "code",
   "execution_count": null,
   "id": "c6a9dbd8",
   "metadata": {},
   "outputs": [],
   "source": [
    "for sig_name,sig_df in sig_dict.items():\n",
    "#     sig_df = sig_df.reset_index()\n",
    "#     sig_df.columns=['stock','dates',sig_name]\n",
    "    df = df.merge(sig_df,on =['stock','dates'])\n",
    "#     df[sig_name].fillna(method='ffill',inplace=True)"
   ]
  },
  {
   "cell_type": "code",
   "execution_count": null,
   "id": "42eb03c2",
   "metadata": {},
   "outputs": [],
   "source": [
    "data_l = data[data.dates >'2016']"
   ]
  },
  {
   "cell_type": "code",
   "execution_count": null,
   "id": "bf40c015",
   "metadata": {},
   "outputs": [],
   "source": [
    "data.to_csv('overall_signals_updated.csv')\n",
    "data_l.to_csv('overall_signals_2016_up.csv')"
   ]
  },
  {
   "cell_type": "code",
   "execution_count": null,
   "id": "5afa7bcd",
   "metadata": {},
   "outputs": [],
   "source": [
    "f_cop = pd.merge(f_cop,sel_price,how = 'left',on =['stock','dates'])\n",
    "f_cop['close_price'].fillna(method='ffill',inplace=True)"
   ]
  },
  {
   "cell_type": "code",
   "execution_count": null,
   "id": "f0b7f777",
   "metadata": {},
   "outputs": [],
   "source": [
    "op_price = pd.read_csv(\"/home/hengtian/lucy/factor_service/basic_data/open_price_post.csv\",index_col = 0)\n",
    "op_prie= op_price.replace(0,np.nan)\n",
    "\n",
    "op_price = op_price['2013':'2021-07-18'].shift(-1)\n",
    "op_price = op_price[stocks]\n",
    "op = op_price.unstack()\n",
    "op_price = op[op.index.isin(cop.index)]"
   ]
  },
  {
   "cell_type": "code",
   "execution_count": null,
   "id": "069832f5",
   "metadata": {},
   "outputs": [],
   "source": [
    "op_price = op_price.reset_index()\n",
    "op_price.columns = ['stock','dates','buy_price']"
   ]
  },
  {
   "cell_type": "code",
   "execution_count": null,
   "id": "c31fed03",
   "metadata": {},
   "outputs": [],
   "source": [
    "df = df.merge(op_price, how ='left',on = ['stock','dates'])"
   ]
  },
  {
   "cell_type": "markdown",
   "id": "e33b84f3",
   "metadata": {},
   "source": [
    "# 信号日距离100天前的700日max的天数"
   ]
  },
  {
   "cell_type": "code",
   "execution_count": null,
   "id": "1d2d7658",
   "metadata": {},
   "outputs": [],
   "source": [
    "# max_date =pd.Series()\n",
    "def btw_max(stock,q):\n",
    "    temp_h = highest[stock]\n",
    "#     print(temp_h)\n",
    "    temp_m = sel_max[sel_max.stock==stock]\n",
    "    max_days = []\n",
    "    for date in temp_m.dates:\n",
    "        temp = temp_h[:date].tail(800)\n",
    "        begin = np.argmax(temp[:-100])\n",
    "        itval =len(temp[begin:])-1\n",
    "        max_days.append([date,itval])\n",
    "#     m_df =pd.DataFrame(max_days)\n",
    "    return q.put({stock:max_days})\n"
   ]
  },
  {
   "cell_type": "code",
   "execution_count": null,
   "id": "255efa29",
   "metadata": {},
   "outputs": [],
   "source": [
    "elements = multi_process(set(df.stock),btw_max,20)"
   ]
  },
  {
   "cell_type": "code",
   "execution_count": null,
   "id": "702d9cd8",
   "metadata": {},
   "outputs": [],
   "source": [
    "elmts =[]\n",
    "for i in range(len(elements)):\n",
    "    stock = list(elements[i].keys())[0]\n",
    "    exp = pd.DataFrame(elements[i][stock])\n",
    "    exp['stock']=stock\n",
    "#     print(t_df)\n",
    "    elmts.append(exp)"
   ]
  },
  {
   "cell_type": "code",
   "execution_count": null,
   "id": "d786e030",
   "metadata": {},
   "outputs": [],
   "source": [
    "final_m = pd.concat(elmts)"
   ]
  },
  {
   "cell_type": "code",
   "execution_count": null,
   "id": "79ca9d4a",
   "metadata": {},
   "outputs": [],
   "source": [
    "final_m.columns=['dates','days_btw_max','stock']\n",
    "# final_m[final_m.days_btw_max<100]"
   ]
  },
  {
   "cell_type": "code",
   "execution_count": null,
   "id": "9323b012",
   "metadata": {
    "scrolled": true
   },
   "outputs": [],
   "source": [
    "df = df.merge(final_m,on=['stock','dates'])"
   ]
  },
  {
   "cell_type": "markdown",
   "id": "5c0606fc",
   "metadata": {},
   "source": [
    "# 未来收益率"
   ]
  },
  {
   "cell_type": "code",
   "execution_count": 178,
   "id": "64cb44e9",
   "metadata": {},
   "outputs": [],
   "source": [
    "price = pd.read_csv('/home/hengtian/lucy/factor_service/basic_data/open_price_post.csv',index_col =0)\n",
    "price = price['2013':'2021-07-18']"
   ]
  },
  {
   "cell_type": "code",
   "execution_count": 180,
   "id": "205df579",
   "metadata": {},
   "outputs": [],
   "source": [
    "price = price[ovlp]"
   ]
  },
  {
   "cell_type": "code",
   "execution_count": 181,
   "id": "a1708a31",
   "metadata": {},
   "outputs": [],
   "source": [
    "#基准收益\n",
    "zz_500 = pd.read_csv('/home/hengtian/lucy/factor_service/basic_data/bmk_open.csv',index_col =0)\n",
    "zz_500= zz_500['2013':'2021-07-18']\n",
    "zz_500=zz_500['000905.XSHG']\n",
    "zz_rtn =(zz_500/zz_500.shift(1)-1).shift(-2)"
   ]
  },
  {
   "cell_type": "code",
   "execution_count": 126,
   "id": "44995ea2",
   "metadata": {},
   "outputs": [],
   "source": [
    "\"\"\"\n",
    "计算每只股票的未来1天收益\n",
    "\"\"\"\n",
    "def ft_rtn(stock,q):\n",
    "    dates = np.array(dfv5[dfv5['stock']==stock]['dates'].values)\n",
    "#     dates = [i if (i in dates)& (i<'2021-07-12')]\n",
    "    op = price[stock]\n",
    "    rtn_f = calc_rtn(1,dates,op)\n",
    "#     rtn_f.columns ='rtn_1'\n",
    "    rtn_f['dates']=dates\n",
    "    rtn_f['stock'] = stock\n",
    "    return q.put({stock:rtn_f})\n",
    "#     tot.append(rtn_f)"
   ]
  },
  {
   "cell_type": "code",
   "execution_count": 184,
   "id": "6abe20c4",
   "metadata": {},
   "outputs": [],
   "source": [
    "\"\"\"\n",
    "计算n天之后的收益\n",
    "\"\"\"\n",
    "def calc_rtn(days,dates,op):\n",
    "    tmr =[list(price.index).index(i)+1 for i in dates]\n",
    "#     tmr = [i if (i in tmr)&(i<2071) for i in tmr]\n",
    "    ftr = [list(price.index).index(i)+1+days for i in dates]\n",
    "    ftr = [i if (i in ftr)&(i<2075) else 2074 for i in ftr]\n",
    "    return pd.DataFrame(op.iloc[ftr].values/op.iloc[tmr].values-1)"
   ]
  },
  {
   "cell_type": "code",
   "execution_count": 185,
   "id": "c402b0d9",
   "metadata": {},
   "outputs": [],
   "source": [
    "elements = multi_process(set(dfv5['stock']),ft_rtn,20)"
   ]
  },
  {
   "cell_type": "code",
   "execution_count": 186,
   "id": "1e1ef939",
   "metadata": {},
   "outputs": [],
   "source": [
    "elmts =[]\n",
    "for i in range(len(elements)):\n",
    "    stock = list(elements[i].keys())[0]\n",
    "    exp = elements[i][stock]\n",
    "    elmts.append(exp)"
   ]
  },
  {
   "cell_type": "code",
   "execution_count": 187,
   "id": "7d280b5b",
   "metadata": {},
   "outputs": [],
   "source": [
    "rtns = pd.concat(elmts)\n",
    "\n",
    "# dff.loc['000026.XSHE']"
   ]
  },
  {
   "cell_type": "code",
   "execution_count": 188,
   "id": "b5cecb64",
   "metadata": {},
   "outputs": [],
   "source": [
    "rtns.columns = ['rtn_1','dates','stock']"
   ]
  },
  {
   "cell_type": "code",
   "execution_count": 192,
   "id": "f8551bf9",
   "metadata": {},
   "outputs": [],
   "source": [
    "\"\"\"\n",
    "计算每只股票未来一天的超额收益\n",
    "\"\"\"\n",
    "def alpha_rtn(stock,q):\n",
    "    rtn_days =dfv8[dfv8.stock==stock]['dates'].values\n",
    "    zz_rt = zz_rtn[rtn_days].values\n",
    "    rtn = dfv8[dfv8.stock==stock]['rtn_1'].values - zz_rt\n",
    "    alpha = pd.DataFrame([rtn_days,rtn]).T\n",
    "#     print(alpha)\n",
    "    return q.put({stock:alpha})"
   ]
  },
  {
   "cell_type": "code",
   "execution_count": 193,
   "id": "5ff81c74",
   "metadata": {},
   "outputs": [],
   "source": [
    "elements = multi_process(set(dfv8['stock']),alpha_rtn,30)"
   ]
  },
  {
   "cell_type": "code",
   "execution_count": 194,
   "id": "498d5e3b",
   "metadata": {},
   "outputs": [],
   "source": [
    "elmts =[]\n",
    "for i in range(len(elements)):\n",
    "    stock = list(elements[i].keys())[0]\n",
    "    exp = elements[i][stock]\n",
    "    exp['stock'] = stock\n",
    "    elmts.append(exp)"
   ]
  },
  {
   "cell_type": "code",
   "execution_count": 195,
   "id": "2809c68d",
   "metadata": {
    "collapsed": true
   },
   "outputs": [
    {
     "data": {
      "text/html": [
       "<div>\n",
       "<style scoped>\n",
       "    .dataframe tbody tr th:only-of-type {\n",
       "        vertical-align: middle;\n",
       "    }\n",
       "\n",
       "    .dataframe tbody tr th {\n",
       "        vertical-align: top;\n",
       "    }\n",
       "\n",
       "    .dataframe thead th {\n",
       "        text-align: right;\n",
       "    }\n",
       "</style>\n",
       "<table border=\"1\" class=\"dataframe\">\n",
       "  <thead>\n",
       "    <tr style=\"text-align: right;\">\n",
       "      <th></th>\n",
       "      <th>dates</th>\n",
       "      <th>alpha_1</th>\n",
       "      <th>stock</th>\n",
       "    </tr>\n",
       "  </thead>\n",
       "  <tbody>\n",
       "    <tr>\n",
       "      <th>0</th>\n",
       "      <td>2018-05-22</td>\n",
       "      <td>0.0293619</td>\n",
       "      <td>002816.XSHE</td>\n",
       "    </tr>\n",
       "    <tr>\n",
       "      <th>1</th>\n",
       "      <td>2018-05-23</td>\n",
       "      <td>0.0019058</td>\n",
       "      <td>002816.XSHE</td>\n",
       "    </tr>\n",
       "    <tr>\n",
       "      <th>2</th>\n",
       "      <td>2018-05-24</td>\n",
       "      <td>0.0117583</td>\n",
       "      <td>002816.XSHE</td>\n",
       "    </tr>\n",
       "    <tr>\n",
       "      <th>3</th>\n",
       "      <td>2018-05-25</td>\n",
       "      <td>-0.00856598</td>\n",
       "      <td>002816.XSHE</td>\n",
       "    </tr>\n",
       "    <tr>\n",
       "      <th>4</th>\n",
       "      <td>2018-05-28</td>\n",
       "      <td>-0.01971</td>\n",
       "      <td>002816.XSHE</td>\n",
       "    </tr>\n",
       "    <tr>\n",
       "      <th>...</th>\n",
       "      <td>...</td>\n",
       "      <td>...</td>\n",
       "      <td>...</td>\n",
       "    </tr>\n",
       "    <tr>\n",
       "      <th>258</th>\n",
       "      <td>2021-03-31</td>\n",
       "      <td>0.00090082</td>\n",
       "      <td>002003.XSHE</td>\n",
       "    </tr>\n",
       "    <tr>\n",
       "      <th>259</th>\n",
       "      <td>2021-04-01</td>\n",
       "      <td>-0.0486149</td>\n",
       "      <td>002003.XSHE</td>\n",
       "    </tr>\n",
       "    <tr>\n",
       "      <th>260</th>\n",
       "      <td>2021-04-02</td>\n",
       "      <td>-0.00367348</td>\n",
       "      <td>002003.XSHE</td>\n",
       "    </tr>\n",
       "    <tr>\n",
       "      <th>261</th>\n",
       "      <td>2021-04-06</td>\n",
       "      <td>0.00869864</td>\n",
       "      <td>002003.XSHE</td>\n",
       "    </tr>\n",
       "    <tr>\n",
       "      <th>262</th>\n",
       "      <td>2021-04-07</td>\n",
       "      <td>-0.00195223</td>\n",
       "      <td>002003.XSHE</td>\n",
       "    </tr>\n",
       "  </tbody>\n",
       "</table>\n",
       "<p>2736686 rows × 3 columns</p>\n",
       "</div>"
      ],
      "text/plain": [
       "          dates     alpha_1        stock\n",
       "0    2018-05-22   0.0293619  002816.XSHE\n",
       "1    2018-05-23   0.0019058  002816.XSHE\n",
       "2    2018-05-24   0.0117583  002816.XSHE\n",
       "3    2018-05-25 -0.00856598  002816.XSHE\n",
       "4    2018-05-28    -0.01971  002816.XSHE\n",
       "..          ...         ...          ...\n",
       "258  2021-03-31  0.00090082  002003.XSHE\n",
       "259  2021-04-01  -0.0486149  002003.XSHE\n",
       "260  2021-04-02 -0.00367348  002003.XSHE\n",
       "261  2021-04-06  0.00869864  002003.XSHE\n",
       "262  2021-04-07 -0.00195223  002003.XSHE\n",
       "\n",
       "[2736686 rows x 3 columns]"
      ]
     },
     "execution_count": 195,
     "metadata": {},
     "output_type": "execute_result"
    }
   ],
   "source": [
    "rtns = pd.concat(elmts)\n",
    "rtns.columns =['dates','alpha_1','stock']\n",
    "rtns"
   ]
  },
  {
   "cell_type": "code",
   "execution_count": 197,
   "id": "2d4da058",
   "metadata": {},
   "outputs": [],
   "source": [
    "\"\"\"\n",
    "所有满足利空事件统计指标的股票和日期\n",
    "\"\"\"\n",
    "dfv6 = dfv9[(dfv9['npc_y1'].isnull()==False)&(dfv9['npc_y2'].isnull()==False)&(dfv9['np_g1'].isnull()==False)&(dfv9['growth_cur']>0.1)]\n",
    "dfv7 =dfv6[(dfv6['is_limit']==0)&(dfv6['is_st']==0)]"
   ]
  },
  {
   "cell_type": "code",
   "execution_count": 198,
   "id": "352fdd1b",
   "metadata": {},
   "outputs": [],
   "source": [
    "df10 = dfv7[(dfv7['buy/sig_close']<-0.02)&(dfv7['interval_days']>1)&(dfv7['interval_days']<60)]"
   ]
  },
  {
   "cell_type": "code",
   "execution_count": 200,
   "id": "99def518",
   "metadata": {},
   "outputs": [],
   "source": [
    "df10.to_csv('signal_selected_0809.csv')"
   ]
  },
  {
   "cell_type": "markdown",
   "id": "d3d9e19e",
   "metadata": {},
   "source": [
    "# 距离信号日天数"
   ]
  },
  {
   "cell_type": "code",
   "execution_count": null,
   "id": "75fbe4c3",
   "metadata": {},
   "outputs": [],
   "source": [
    "data = pd.read_csv('/home/hengtian/kate/signal/overall_signals_updated.csv')"
   ]
  },
  {
   "cell_type": "code",
   "execution_count": 51,
   "id": "53cfebea",
   "metadata": {},
   "outputs": [],
   "source": [
    "ftr_days =dfv3[['stock','dates']]\n",
    "all_days =oval[['stock','dates']].set_index('dates')\n",
    "sig_days= df[['stock','dates']]"
   ]
  },
  {
   "cell_type": "code",
   "execution_count": 53,
   "id": "c4f8a9c6",
   "metadata": {},
   "outputs": [],
   "source": [
    "\"\"\"\n",
    "找到每天所对应的信号日\n",
    "\n",
    "\"\"\"\n",
    "def find_sigday(stock,q):\n",
    "    temp_f =ftr_days[ftr_days.stock==stock]\n",
    "    temp_s = sig_days[sig_days.stock==stock]\n",
    "    sig = []\n",
    "    for date in temp_f.dates:\n",
    "        sig_day =temp_s[temp_s.dates<=date].iloc[-1].values[1]\n",
    "        sig.append([date,sig_day])\n",
    "    sig = pd.DataFrame(sig)\n",
    "    return q.put({stock:sig})"
   ]
  },
  {
   "cell_type": "code",
   "execution_count": null,
   "id": "0cf6e0f7",
   "metadata": {},
   "outputs": [],
   "source": [
    "elements = multi_process(set(sig_days.stock),find_sigday,20)"
   ]
  },
  {
   "cell_type": "code",
   "execution_count": 59,
   "id": "976a1eb7",
   "metadata": {},
   "outputs": [],
   "source": [
    "elmts =[]\n",
    "for i in range(len(elements)):\n",
    "    stock = list(elements[i].keys())[0]\n",
    "    exp = elements[i][stock]\n",
    "    exp['stock']=stock\n",
    "#     print(t_df)\n",
    "    elmts.append(exp)"
   ]
  },
  {
   "cell_type": "code",
   "execution_count": 61,
   "id": "297b6bea",
   "metadata": {},
   "outputs": [],
   "source": [
    "ftr = pd.concat(elmts)\n",
    "ftr.columns =['dates','sig_date','stock']"
   ]
  },
  {
   "cell_type": "code",
   "execution_count": null,
   "id": "688befa3",
   "metadata": {},
   "outputs": [],
   "source": [
    "df6.set_index(['stock','dates'],inplace =True)\n",
    "df.set_index(['stock','dates'],inplace =True)\n",
    "sig_days =df6[df6.index.isin(df.index)].reset_index()"
   ]
  },
  {
   "cell_type": "code",
   "execution_count": null,
   "id": "915672cc",
   "metadata": {},
   "outputs": [],
   "source": [
    "all_days.set_index('dates',inplace = True)"
   ]
  },
  {
   "cell_type": "code",
   "execution_count": 201,
   "id": "54f06fe0",
   "metadata": {},
   "outputs": [],
   "source": [
    "\"\"\"\n",
    "计算每天与信号日之间间隔的交易天数（不包含其中一天）\n",
    "\n",
    "\"\"\"\n",
    "\n",
    "def itval_days(stock,q):\n",
    "    temp_re=[]\n",
    "    temp_a =all_days[all_days.stock ==stock]\n",
    "    temp_f =ftr[ftr.stock==stock].drop('stock',axis = 1)\n",
    "    for i in range(len(temp_f)):\n",
    "        end =temp_f.iloc[i,:].values[0]\n",
    "        begin= temp_f.iloc[i,:].values[1]\n",
    "        temp_re.append(len(temp_a.loc[begin:end])-1)\n",
    "    return q.put({stock:temp_re})\n"
   ]
  },
  {
   "cell_type": "code",
   "execution_count": null,
   "id": "acb5151b",
   "metadata": {},
   "outputs": [],
   "source": [
    "elements = multi_process(set(ftr.stock),itval_days,20)"
   ]
  },
  {
   "cell_type": "code",
   "execution_count": 65,
   "id": "04ce370b",
   "metadata": {},
   "outputs": [],
   "source": [
    "elmts =[]\n",
    "for i in range(len(elements)):\n",
    "    stock = list(elements[i].keys())[0]\n",
    "    exp = elements[i][stock]\n",
    "    t_df =pd.DataFrame(exp)\n",
    "#     print(t_df)\n",
    "    t_df['stock']=stock\n",
    "#     print(t_df)\n",
    "    elmts.append(t_df)"
   ]
  },
  {
   "cell_type": "code",
   "execution_count": 66,
   "id": "3d3cbff8",
   "metadata": {
    "collapsed": true
   },
   "outputs": [
    {
     "data": {
      "text/html": [
       "<div>\n",
       "<style scoped>\n",
       "    .dataframe tbody tr th:only-of-type {\n",
       "        vertical-align: middle;\n",
       "    }\n",
       "\n",
       "    .dataframe tbody tr th {\n",
       "        vertical-align: top;\n",
       "    }\n",
       "\n",
       "    .dataframe thead th {\n",
       "        text-align: right;\n",
       "    }\n",
       "</style>\n",
       "<table border=\"1\" class=\"dataframe\">\n",
       "  <thead>\n",
       "    <tr style=\"text-align: right;\">\n",
       "      <th></th>\n",
       "      <th>0</th>\n",
       "      <th>stock</th>\n",
       "    </tr>\n",
       "  </thead>\n",
       "  <tbody>\n",
       "    <tr>\n",
       "      <th>0</th>\n",
       "      <td>0</td>\n",
       "      <td>603713.XSHG</td>\n",
       "    </tr>\n",
       "    <tr>\n",
       "      <th>1</th>\n",
       "      <td>1</td>\n",
       "      <td>603713.XSHG</td>\n",
       "    </tr>\n",
       "    <tr>\n",
       "      <th>2</th>\n",
       "      <td>2</td>\n",
       "      <td>603713.XSHG</td>\n",
       "    </tr>\n",
       "    <tr>\n",
       "      <th>3</th>\n",
       "      <td>0</td>\n",
       "      <td>603713.XSHG</td>\n",
       "    </tr>\n",
       "    <tr>\n",
       "      <th>4</th>\n",
       "      <td>0</td>\n",
       "      <td>603713.XSHG</td>\n",
       "    </tr>\n",
       "    <tr>\n",
       "      <th>...</th>\n",
       "      <td>...</td>\n",
       "      <td>...</td>\n",
       "    </tr>\n",
       "    <tr>\n",
       "      <th>29</th>\n",
       "      <td>29</td>\n",
       "      <td>002961.XSHE</td>\n",
       "    </tr>\n",
       "    <tr>\n",
       "      <th>30</th>\n",
       "      <td>30</td>\n",
       "      <td>002961.XSHE</td>\n",
       "    </tr>\n",
       "    <tr>\n",
       "      <th>31</th>\n",
       "      <td>31</td>\n",
       "      <td>002961.XSHE</td>\n",
       "    </tr>\n",
       "    <tr>\n",
       "      <th>32</th>\n",
       "      <td>32</td>\n",
       "      <td>002961.XSHE</td>\n",
       "    </tr>\n",
       "    <tr>\n",
       "      <th>33</th>\n",
       "      <td>33</td>\n",
       "      <td>002961.XSHE</td>\n",
       "    </tr>\n",
       "  </tbody>\n",
       "</table>\n",
       "<p>2736686 rows × 2 columns</p>\n",
       "</div>"
      ],
      "text/plain": [
       "     0        stock\n",
       "0    0  603713.XSHG\n",
       "1    1  603713.XSHG\n",
       "2    2  603713.XSHG\n",
       "3    0  603713.XSHG\n",
       "4    0  603713.XSHG\n",
       "..  ..          ...\n",
       "29  29  002961.XSHE\n",
       "30  30  002961.XSHE\n",
       "31  31  002961.XSHE\n",
       "32  32  002961.XSHE\n",
       "33  33  002961.XSHE\n",
       "\n",
       "[2736686 rows x 2 columns]"
      ]
     },
     "execution_count": 66,
     "metadata": {},
     "output_type": "execute_result"
    }
   ],
   "source": [
    "fi=pd.concat(elmts)\n",
    "fi"
   ]
  },
  {
   "cell_type": "code",
   "execution_count": 67,
   "id": "96e2dd62",
   "metadata": {},
   "outputs": [],
   "source": [
    "# ftr_days.set_index('stock',inplace=True)\n",
    "fi.set_index('stock',inplace=True)"
   ]
  },
  {
   "cell_type": "code",
   "execution_count": 69,
   "id": "4cfe56e5",
   "metadata": {},
   "outputs": [],
   "source": [
    "\"\"\"\n",
    "将找到的天数与原本的dataframe结合\n",
    "\"\"\"\n",
    "def concat(stock,q):\n",
    "    temp_f =dfv3[dfv3.index==stock]\n",
    "    temp_i = fi[fi.index==stock]\n",
    "    temp =pd.concat([temp_f,temp_i],axis =1)\n",
    "    q.put({stock:temp})\n",
    "# final_df =pd.concat(final_interval)\n",
    "# final_df"
   ]
  },
  {
   "cell_type": "code",
   "execution_count": null,
   "id": "673ea212",
   "metadata": {},
   "outputs": [],
   "source": [
    "elements = multi_process(set(dfv3.index),concat,20)"
   ]
  },
  {
   "cell_type": "code",
   "execution_count": 71,
   "id": "ff18f711",
   "metadata": {},
   "outputs": [],
   "source": [
    "elmts =[]\n",
    "for i in range(len(elements)):\n",
    "    stock = list(elements[i].keys())[0]\n",
    "    exp = elements[i][stock]\n",
    "    exp['stock']=stock\n",
    "#     print(t_df)\n",
    "    elmts.append(exp)"
   ]
  },
  {
   "cell_type": "code",
   "execution_count": 72,
   "id": "333b7ecf",
   "metadata": {},
   "outputs": [],
   "source": [
    "final_df = pd.concat(elmts)"
   ]
  },
  {
   "cell_type": "code",
   "execution_count": 79,
   "id": "d8c8dfe2",
   "metadata": {},
   "outputs": [],
   "source": [
    "final_df.rename(columns={0:'interval_days'},inplace=True)\n",
    "# final_df.drop('stock',axis =1,inplace=True)"
   ]
  },
  {
   "cell_type": "markdown",
   "id": "84dda32f",
   "metadata": {},
   "source": [
    "# 中证500 特征"
   ]
  },
  {
   "cell_type": "code",
   "execution_count": null,
   "id": "2799a277",
   "metadata": {},
   "outputs": [],
   "source": [
    "zz_500 =pd.read_csv('/home/hengtian/lucy/factor_service/basic_data/is_zz800.csv',index_col =0)"
   ]
  },
  {
   "cell_type": "code",
   "execution_count": null,
   "id": "b937a2ac",
   "metadata": {},
   "outputs": [],
   "source": [
    "zz_highest =gft.get_index_factor('highest_index',start_date =datetime.date(2013, 1, 1),end_date = datetime.date(2021, 7, 13))\n",
    "zz_highest.to_csv('highest_index.csv')"
   ]
  },
  {
   "cell_type": "code",
   "execution_count": null,
   "id": "5342d284",
   "metadata": {},
   "outputs": [],
   "source": [
    "zz_lowest =gft.get_index_factor('lowest_index',start_date =datetime.date(2013, 1, 1),end_date = datetime.date(2021, 7, 13))\n",
    "zz_lowest.to_csv('lowest_index.csv')"
   ]
  },
  {
   "cell_type": "code",
   "execution_count": null,
   "id": "ebce7c8f",
   "metadata": {},
   "outputs": [],
   "source": [
    "zz_highest =zz_highest['000905.XSHG']\n",
    "zz_lowest= zz_lowest['000905.XSHG']"
   ]
  },
  {
   "cell_type": "code",
   "execution_count": null,
   "id": "acf9d274",
   "metadata": {},
   "outputs": [],
   "source": [
    "zz_lowest.index = zz_lowest.index.to_series().apply(lambda x :x.strftime(\"%Y-%m-%d\"))"
   ]
  },
  {
   "cell_type": "code",
   "execution_count": null,
   "id": "07cc1734",
   "metadata": {},
   "outputs": [],
   "source": [
    "zz_highest.index = zz_highest.index.to_series().apply(lambda x :x.strftime(\"%Y-%m-%d\"))"
   ]
  },
  {
   "cell_type": "code",
   "execution_count": null,
   "id": "1095fd7e",
   "metadata": {},
   "outputs": [],
   "source": [
    "# 中证特征思路\n",
    "\"\"\"\n",
    "每个stock的每个信号日定位回low_post中的前20天（不包括信号日当天）\n",
    "找到20天中的min 的日期，去找中证500的价格（中证500当天的lowest）\n",
    "当天的max/中证的价格\n",
    "\n",
    "\"\"\"\n",
    "def zz_rtn(stock,q):\n",
    "    temp =df[df.stock==stock]\n",
    "    temp_l = lowest[stock]\n",
    "    rtns = []\n",
    "    for date in temp.dates:\n",
    "#         print(date)\n",
    "        idx =list(temp_l.index).index(date)\n",
    "        min_idx =np.argmin(temp_l.iloc[idx-20:idx])\n",
    "        min_date = temp_l.iloc[idx-20:idx].index[min_idx]\n",
    "        zz_min = zz_lowest[min_date]\n",
    "#         print(zz_min)\n",
    "        zz_high =zz_highest[date]\n",
    "        rtn = zz_high/zz_min\n",
    "#         print(rtn)\n",
    "        rtns.append([date,rtn])\n",
    "#         break\n",
    "#     return rtns\n",
    "    return q.put({stock:rtns})"
   ]
  },
  {
   "cell_type": "code",
   "execution_count": null,
   "id": "61d78673",
   "metadata": {},
   "outputs": [],
   "source": [
    "elements = multi_process(set(df.stock),zz_rtn,20)"
   ]
  },
  {
   "cell_type": "code",
   "execution_count": null,
   "id": "d752d55f",
   "metadata": {},
   "outputs": [],
   "source": [
    "elmts =[]\n",
    "for i in range(len(elements)):\n",
    "    stock = list(elements[i].keys())[0]\n",
    "    exp = pd.DataFrame(elements[i][stock])\n",
    "    exp['stock']=stock\n",
    "#     print(t_df)\n",
    "    elmts.append(exp)"
   ]
  },
  {
   "cell_type": "code",
   "execution_count": null,
   "id": "727714a8",
   "metadata": {},
   "outputs": [],
   "source": [
    "zz_min20 = pd.concat(elmts)\n",
    "zz_min20.columns = ['dates','zz_max_vs_min_20','stock']"
   ]
  },
  {
   "cell_type": "code",
   "execution_count": null,
   "id": "e860aa4b",
   "metadata": {
    "scrolled": true
   },
   "outputs": [],
   "source": [
    "df = df.merge(zz_min20,on = ['dates','stock'])"
   ]
  },
  {
   "cell_type": "code",
   "execution_count": null,
   "id": "e6f22c04",
   "metadata": {},
   "outputs": [],
   "source": [
    "\"\"\"\n",
    "每个stock的每个信号日100天前的700天中最高价的日期（不包括信号日当天）\n",
    "去找当天中证500的价格（中证500当天的max）；\n",
    "每个stock 的每个信号日100天中的最低价的日期，去找当天中证500的价格（中证500当天的min）\n",
    "中证的max/min\n",
    "\n",
    "\"\"\"\n",
    "def zz_max700(stock,q):\n",
    "    temp_h = highest[stock]\n",
    "#     print(temp_h)\n",
    "    temp_m = df[df.stock==stock]\n",
    "    ratio = []\n",
    "    for date in temp_m.dates:\n",
    "        temp = temp_h[:date].tail(800)\n",
    "        idx = np.argmax(temp.iloc[:-100])\n",
    "        max_date = temp.iloc[:-100].index[idx]\n",
    "        min_idx = np.argmin(temp.tail(100))\n",
    "        min_date = temp.tail(100).index[min_idx]\n",
    "        zz_ratio = zz_highest[max_date]/zz_lowest[min_date]\n",
    "        ratio.append([date,zz_ratio])\n",
    "#     m_df =pd.DataFrame(max_days)\n",
    "    return q.put({stock:ratio})\n"
   ]
  },
  {
   "cell_type": "code",
   "execution_count": null,
   "id": "06c269dc",
   "metadata": {},
   "outputs": [],
   "source": [
    "elements = multi_process(set(df.stock),zz_max700,20)"
   ]
  },
  {
   "cell_type": "code",
   "execution_count": null,
   "id": "943c234c",
   "metadata": {},
   "outputs": [],
   "source": [
    "elmts =[]\n",
    "for i in range(len(elements)):\n",
    "    stock = list(elements[i].keys())[0]\n",
    "    exp = pd.DataFrame(elements[i][stock])\n",
    "    exp['stock']=stock\n",
    "#     print(t_df)\n",
    "    elmts.append(exp)"
   ]
  },
  {
   "cell_type": "code",
   "execution_count": null,
   "id": "300cfef6",
   "metadata": {},
   "outputs": [],
   "source": [
    "zz_max = pd.concat(elmts)"
   ]
  },
  {
   "cell_type": "code",
   "execution_count": null,
   "id": "2ccd6035",
   "metadata": {},
   "outputs": [],
   "source": [
    "zz_max.columns = ['dates','zz_max700_min100','stock']"
   ]
  },
  {
   "cell_type": "code",
   "execution_count": null,
   "id": "006fc42d",
   "metadata": {},
   "outputs": [],
   "source": [
    "df = df.merge(zz_max,on=['stock','dates'])"
   ]
  },
  {
   "cell_type": "markdown",
   "id": "2926f7e3",
   "metadata": {},
   "source": [
    "# 涨停"
   ]
  },
  {
   "cell_type": "code",
   "execution_count": 31,
   "id": "c63adb6a",
   "metadata": {},
   "outputs": [],
   "source": [
    "#当日涨停价\n",
    "high_l = pd.read_csv('/home/hengtian/lucy/factor_service/basic_data/high_limit.csv',index_col =0)"
   ]
  },
  {
   "cell_type": "code",
   "execution_count": 32,
   "id": "a4933f44",
   "metadata": {},
   "outputs": [],
   "source": [
    "#当日收盘价（未复权）\n",
    "close_non=pd.read_csv('/home/hengtian/lucy/factor_service/basic_data/close_price.csv',index_col =0)"
   ]
  },
  {
   "cell_type": "code",
   "execution_count": 33,
   "id": "417f8383",
   "metadata": {},
   "outputs": [],
   "source": [
    "\"\"\"\n",
    "结合涨停价和收盘价，相等的为涨停股票&日期\n",
    "\"\"\"\n",
    "close_non = close_non.unstack().rename('close').reset_index()\n",
    "close_non.columns = ['stock','dates','close_price']\n",
    "high_l = high_l.unstack().rename('high_limit').reset_index()\n",
    "high_l.columns = ['stock','dates','high_limit']\n",
    "combo = pd.merge(close_non, high_l, on = ['stock','dates'])\n",
    "limitup = combo[combo.close_price==combo.high_limit]"
   ]
  },
  {
   "cell_type": "markdown",
   "id": "4f826754",
   "metadata": {},
   "source": [
    "# 第二天涨停"
   ]
  },
  {
   "cell_type": "code",
   "execution_count": null,
   "id": "f893bc22",
   "metadata": {},
   "outputs": [],
   "source": [
    "high_l_shift =pd.read_csv('/home/hengtian/lucy/factor_service/basic_data/high_limit.csv',index_col =0)\n",
    "high_l_shift = high_l_shift.shift(-1)\n",
    "high_l_shift = high_l_shift.unstack().reset_index()\n",
    "high_l_shift.columns = ['stock','dates','high_limit_shifted']\n",
    "signals = signals.merge(high_l_shift,how = 'left',on = ['stock','dates'])"
   ]
  },
  {
   "cell_type": "code",
   "execution_count": null,
   "id": "69dbbce8",
   "metadata": {},
   "outputs": [],
   "source": [
    "signals.drop(['close_price','high_limit'],axis =1,inplace = True)"
   ]
  },
  {
   "cell_type": "code",
   "execution_count": null,
   "id": "a7ff9e85",
   "metadata": {},
   "outputs": [],
   "source": [
    "limitup.reset_index(inplace =True)"
   ]
  },
  {
   "cell_type": "code",
   "execution_count": 37,
   "id": "63a2bbce",
   "metadata": {},
   "outputs": [],
   "source": [
    "limitup.set_index(['stock','dates'],inplace = True)"
   ]
  },
  {
   "cell_type": "code",
   "execution_count": 85,
   "id": "80667470",
   "metadata": {},
   "outputs": [],
   "source": [
    "close_price_post =pd.read_csv('/home/hengtian/lucy/factor_service/basic_data/close_price_post.csv',index_col =0)\n",
    "close_price_p = close_price_post.unstack().reset_index()\n",
    "close_price_p.columns = ['stock','dates','close_price_post']\n",
    "sig_close =df.merge(close_price_p,how='left',on = ['stock','dates'])"
   ]
  },
  {
   "cell_type": "code",
   "execution_count": 38,
   "id": "026a013a",
   "metadata": {},
   "outputs": [
    {
     "name": "stderr",
     "output_type": "stream",
     "text": [
      "/home/hengtian/anaconda3/envs/lucy/lib/python3.7/site-packages/ipykernel_launcher.py:2: SettingWithCopyWarning: \n",
      "A value is trying to be set on a copy of a slice from a DataFrame.\n",
      "Try using .loc[row_indexer,col_indexer] = value instead\n",
      "\n",
      "See the caveats in the documentation: https://pandas.pydata.org/pandas-docs/stable/user_guide/indexing.html#returning-a-view-versus-a-copy\n",
      "  \n"
     ]
    }
   ],
   "source": [
    "limit_list = df[df.index.isin(limitup.index)]\n",
    "limit_list['is_limit'] = 1\n",
    "temp_limit = limit_list['is_limit']\n",
    "temp_limit=temp_limit.reset_index()\n",
    "# temp_limit =temp_limit[temp_limit.dates>'2016']\n",
    "# temp_limit"
   ]
  },
  {
   "cell_type": "code",
   "execution_count": 46,
   "id": "91a6d24d",
   "metadata": {},
   "outputs": [],
   "source": [
    "dfv2 = f_df.merge(dfv1[['stock','dates','is_limit']],how= 'left',on=['stock','dates'])"
   ]
  },
  {
   "cell_type": "code",
   "execution_count": 49,
   "id": "bda96df4",
   "metadata": {},
   "outputs": [],
   "source": [
    "dfv2['is_limit'].fillna(method='ffill',inplace = True)\n",
    "# df4 =df3[df3.is_limit==0]"
   ]
  }
 ],
 "metadata": {
  "hide_input": false,
  "kernelspec": {
   "display_name": "Python 3",
   "language": "python",
   "name": "python3"
  },
  "language_info": {
   "codemirror_mode": {
    "name": "ipython",
    "version": 3
   },
   "file_extension": ".py",
   "mimetype": "text/x-python",
   "name": "python",
   "nbconvert_exporter": "python",
   "pygments_lexer": "ipython3",
   "version": "3.8.8"
  },
  "toc": {
   "base_numbering": 1,
   "nav_menu": {},
   "number_sections": true,
   "sideBar": true,
   "skip_h1_title": false,
   "title_cell": "Table of Contents",
   "title_sidebar": "Contents",
   "toc_cell": false,
   "toc_position": {
    "height": "calc(100% - 180px)",
    "left": "10px",
    "top": "150px",
    "width": "383.993px"
   },
   "toc_section_display": true,
   "toc_window_display": true
  }
 },
 "nbformat": 4,
 "nbformat_minor": 5
}
