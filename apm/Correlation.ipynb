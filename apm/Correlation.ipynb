{
 "cells": [
  {
   "cell_type": "code",
   "execution_count": 1,
   "id": "780cb023",
   "metadata": {},
   "outputs": [],
   "source": [
    "import datetime\n",
    "import time\n",
    "import sys\n",
    "sys.path.append(r'/home/hengtian/lucy/factor-analyzer-v4/')\n",
    "import pymysql\n",
    "import matplotlib.pyplot as plt\n",
    "import pandas as pd\n",
    "import numpy as np\n",
    "import multiprocessing\n",
    "import os\n",
    "import queue\n",
    "\n",
    "import datetime as dt\n"
   ]
  },
  {
   "cell_type": "code",
   "execution_count": 12,
   "id": "af634fd9",
   "metadata": {},
   "outputs": [],
   "source": [
    "am10 = pd.read_csv(\"/home/hengtian/lucy/factor_service/basic_data/minute_1000_open.csv\", index_col = 0)\n",
    "am10 = am10['2018':'2021-06-22']\n",
    "op = pd.read_csv(\"/home/hengtian/lucy/factor_service/basic_data/open_price.csv\", index_col = 0)\n",
    "op = op['2018':'2021-06-22']"
   ]
  },
  {
   "cell_type": "code",
   "execution_count": 130,
   "id": "250d5f30",
   "metadata": {},
   "outputs": [
    {
     "name": "stderr",
     "output_type": "stream",
     "text": [
      "<ipython-input-130-03e7aee5c451>:4: SettingWithCopyWarning: \n",
      "A value is trying to be set on a copy of a slice from a DataFrame.\n",
      "Try using .loc[row_indexer,col_indexer] = value instead\n",
      "\n",
      "See the caveats in the documentation: https://pandas.pydata.org/pandas-docs/stable/user_guide/indexing.html#returning-a-view-versus-a-copy\n",
      "  ov_er['idx']=np.nanmean(ov_er,axis=1)\n"
     ]
    }
   ],
   "source": [
    "ovngt = pd.read_csv(\"/home/hengtian/lucy/factor_service/basic_data/ovngt.csv\", index_col = 0)\n",
    "ovngt= ovngt['2018':'2021-06-22']\n",
    "ov_er = ovngt[a]\n",
    "ov_er['idx']=np.nanmean(ov_er,axis=1)"
   ]
  },
  {
   "cell_type": "code",
   "execution_count": 142,
   "id": "c19021ec",
   "metadata": {},
   "outputs": [],
   "source": [
    "am1030 = pd.read_csv(\"/home/hengtian/lucy/factor_service/basic_data/minute_1030_open.csv\",index_col=0)\n",
    "am1030 = am1030['2018':'2021-06-22']\n",
    "am1030_rv =am1030[ovlp]\n",
    "dic1 = dict(zip(am1030_rv.columns,op_rv.columns))\n",
    "am1030_rv=am1030_rv.rename(dic1,axis = 'columns')"
   ]
  },
  {
   "cell_type": "code",
   "execution_count": 156,
   "id": "8f30f77b",
   "metadata": {},
   "outputs": [],
   "source": [
    "pm_13= pd.read_csv(\"/home/hengtian/lucy/factor_service/basic_data/second_130000_sell_price.csv\",index_col =0)\n",
    "pm_13 = pm_13['2018':'2021-06-22']\n",
    "pm_13_rv= pm_13[a]"
   ]
  },
  {
   "cell_type": "code",
   "execution_count": 158,
   "id": "fa0b05a4",
   "metadata": {},
   "outputs": [],
   "source": [
    "am1130_er = pm_13_rv /am1030_rv-1\n",
    "am1130_er['idx'] = np.nanmean(am1130_er,axis=1)"
   ]
  },
  {
   "cell_type": "code",
   "execution_count": 166,
   "id": "3a806b50",
   "metadata": {},
   "outputs": [],
   "source": [
    "pm_1330 = pd.read_csv(\"/home/hengtian/lucy/factor_service/basic_data/minute_1330_open.csv\",index_col=0)\n",
    "pm_1330 = pm_1330['2018':'2021-06-22']\n",
    "pm_1330_rv =pm_1330[ovlp]\n",
    "dic2= dict(zip(pm_1330_rv.columns,op_rv.columns))\n",
    "pm_1330_rv=pm_1330_rv.rename(dic2,axis = 'columns')"
   ]
  },
  {
   "cell_type": "code",
   "execution_count": 176,
   "id": "82800e3a",
   "metadata": {},
   "outputs": [],
   "source": [
    "pm14 = pd.read_csv(\"/home/hengtian/lucy/factor_service/basic_data/minute_1400_open.csv\",index_col=0)\n",
    "pm14=pm14['2018':'2021-06-22']\n",
    "pm14_rv = pm14[ovlp]\n",
    "dic3=dict(zip(pm14_rv.columns,op_rv.columns))\n",
    "pm14_rv=pm14_rv.rename(dic3,axis = 'columns')"
   ]
  },
  {
   "cell_type": "code",
   "execution_count": 183,
   "id": "62d5df6b",
   "metadata": {},
   "outputs": [],
   "source": [
    "pm1430 = pd.read_csv(\"/home/hengtian/lucy/factor_service/basic_data/minute_1430_open.csv\",index_col=0)\n",
    "pm1430=pm1430['2018':'2021-06-22']\n",
    "pm1430_rv = pm1430[ovlp]\n",
    "dic4=dict(zip(pm1430_rv.columns,op_rv.columns))\n",
    "pm1430_rv=pm1430_rv.rename(dic4,axis = 'columns')"
   ]
  },
  {
   "cell_type": "code",
   "execution_count": 200,
   "id": "8ea89e67",
   "metadata": {},
   "outputs": [],
   "source": [
    "close = pd.read_csv(\"/home/hengtian/lucy/factor_service/basic_data/close_price.csv\",index_col=0)\n",
    "close = close['2018':'2021-06-22']\n",
    "close_rv = close[a]\n",
    "close_er = close_rv/pm1430_rv-1\n",
    "close_er['idx']=np.nanmean(close_er,axis=1)"
   ]
  },
  {
   "cell_type": "code",
   "execution_count": 128,
   "id": "f381eb8c",
   "metadata": {},
   "outputs": [],
   "source": [
    "#数据整合：选出相同的column，重命名\n",
    "stocks = [col[:6] for col in op.columns]\n",
    "ovlp = [col for col in stocks if col in am10.columns]\n",
    "a = [col for col in op.columns if col[:6] in am10.columns]"
   ]
  },
  {
   "cell_type": "code",
   "execution_count": 16,
   "id": "b7117a8d",
   "metadata": {},
   "outputs": [],
   "source": [
    "am10_rv = am10[ovlp]\n",
    "op_rv = op[a]"
   ]
  },
  {
   "cell_type": "code",
   "execution_count": 17,
   "id": "ff64f703",
   "metadata": {},
   "outputs": [],
   "source": [
    "dic = dict(zip(am10_rv.columns,op_rv.columns))\n",
    "am10_rv = am10_rv.rename(dic,axis = 'columns')"
   ]
  },
  {
   "cell_type": "code",
   "execution_count": 113,
   "id": "18736bbd",
   "metadata": {},
   "outputs": [],
   "source": [
    "#所有股票前半小时的收益率和大盘收益率\n",
    "am10_er = am10_rv/op_rv-1\n",
    "am10_er['idx'] = np.nanmean(am10_er,axis=1)"
   ]
  },
  {
   "cell_type": "code",
   "execution_count": 143,
   "id": "ad3c9516",
   "metadata": {},
   "outputs": [],
   "source": [
    "#所有股票10点到10点半的收益率和大盘收益率\n",
    "am1030_er = am1030_rv/am10_rv-1\n",
    "am1030_er['idx'] = np.nanmean(am1030_er,axis =1)"
   ]
  },
  {
   "cell_type": "code",
   "execution_count": 167,
   "id": "1ab04189",
   "metadata": {},
   "outputs": [],
   "source": [
    "#所有股票13点到13点半的收益率和大盘收益率\n",
    "pm1330_er = pm_1330_rv/pm_13_rv-1\n",
    "pm1330_er['idx'] = np.nanmean(pm1330_er,axis =1)"
   ]
  },
  {
   "cell_type": "code",
   "execution_count": 177,
   "id": "8ce4066c",
   "metadata": {},
   "outputs": [],
   "source": [
    "#所有股票13点半到14点的收益率和大盘收益率\n",
    "pm14_er = pm14_rv/pm_1330_rv-1\n",
    "pm14_er['idx'] = np.nanmean(pm14_er,axis =1)"
   ]
  },
  {
   "cell_type": "code",
   "execution_count": 186,
   "id": "30db069b",
   "metadata": {},
   "outputs": [],
   "source": [
    "#所有股票14点到14点半的收益率和大盘收益率\n",
    "pm1430_er = pm1430_rv/pm14_rv-1\n",
    "pm1430_er['idx'] = np.nanmean(pm1430_er,axis =1)"
   ]
  },
  {
   "cell_type": "code",
   "execution_count": 186,
   "id": "7f9a21d1",
   "metadata": {},
   "outputs": [],
   "source": [
    "#所有股票14点到14点半的收益率和大盘收益率\n",
    "pm1430_er = pm1430_rv/pm14_rv-1\n",
    "pm1430_er['idx'] = np.nanmean(pm1430_er,axis =1)"
   ]
  },
  {
   "cell_type": "code",
   "execution_count": 207,
   "id": "82dd4fd0",
   "metadata": {},
   "outputs": [],
   "source": [
    "#上午下午总体收益率\n",
    "am_chg = pm_13_rv/op_rv-1\n",
    "pm_chg =close_rv/pm_13_rv-1"
   ]
  },
  {
   "cell_type": "code",
   "execution_count": 211,
   "id": "3ac92cae",
   "metadata": {},
   "outputs": [],
   "source": [
    "pm_chg.to_csv(\"pm_chg.csv\")"
   ]
  },
  {
   "cell_type": "code",
   "execution_count": null,
   "id": "261648a7",
   "metadata": {},
   "outputs": [],
   "source": [
    "test = am10_er['000006.XSHE']\n",
    "tt = test.iloc[40:60]\n",
    "t_i =am10_er['idx'].iloc[40:60]\n",
    "t_i[tt.isnull()==True]=np.nan\n",
    "# t_i[a]= np.nan\n",
    "# np.corrcoef(tt.dropna(), t_i.dropna())[0,1]"
   ]
  },
  {
   "cell_type": "code",
   "execution_count": 201,
   "id": "483b53a0",
   "metadata": {},
   "outputs": [],
   "source": [
    "#滚动20天，计算过去20天中个股和大盘之间的correlation，然后取correlation的平均值作为当天的correlation\n",
    "def corr(stock,q):\n",
    "    i = 20\n",
    "    cor = np.full(len(close_er),np.nan)\n",
    "    stock_er = close_er[stock]\n",
    "    idx_er = close_er['idx']\n",
    "    while i<len(close_er):\n",
    "        s_er =stock_er.iloc[i-20:i]\n",
    "        s_ier = idx_er.iloc[i-20:i]\n",
    "        if len(s_er.dropna())<20:\n",
    "            i+=1\n",
    "#         elif len(s_er.dropna())!=20:\n",
    "#             s_ier[s_er.isnull()==True]=np.nan\n",
    "#             print(stock)\n",
    "#             print(s_er.dropna())\n",
    "#             print(s_ier.dropna())\n",
    "#             cor[i] = np.corrcoef(s_er.dropna(), s_ier.dropna())[0,1]\n",
    "#             break\n",
    "#             i+=1\n",
    "        else:\n",
    "            cor[i]=np.corrcoef(s_er,s_ier)[0,1]\n",
    "            i+=1\n",
    "    return q.put({stock:cor})"
   ]
  },
  {
   "cell_type": "code",
   "execution_count": 202,
   "id": "69f59e7b",
   "metadata": {},
   "outputs": [],
   "source": [
    "q = multiprocessing.Manager().Queue()\n",
    "param = []\n",
    "col =close_er.columns[:-1]\n",
    "for stock in col:\n",
    "    param.append((stock,q))\n",
    "# print(param)\n",
    "#task\n",
    "with multiprocessing.Pool(processes =4) as pool:\n",
    "    pool.starmap(corr,param)\n",
    "\n",
    "#extract\n",
    "elements = []\n",
    "while q.qsize():\n",
    "    elements.append(q.get())"
   ]
  },
  {
   "cell_type": "code",
   "execution_count": 203,
   "id": "0adf6adf",
   "metadata": {},
   "outputs": [],
   "source": [
    "d = pd.DataFrame(np.empty((len(close_er),len(col)),dtype=object),columns = col, index = close_er.index)\n",
    "for i in range(len(elements)):\n",
    "    stock = list(elements[i].keys())[0]\n",
    "    val = list(elements[i][stock])\n",
    "    d[stock]=val"
   ]
  },
  {
   "cell_type": "code",
   "execution_count": 204,
   "id": "42acba16",
   "metadata": {},
   "outputs": [
    {
     "name": "stderr",
     "output_type": "stream",
     "text": [
      "<ipython-input-204-a07a0c350d8c>:1: RuntimeWarning: Mean of empty slice\n",
      "  d['idx'] =np.nanmean(d,axis=1)\n"
     ]
    }
   ],
   "source": [
    "d['idx'] =np.nanmean(d,axis=1)"
   ]
  },
  {
   "cell_type": "code",
   "execution_count": 205,
   "id": "a26bc03e",
   "metadata": {},
   "outputs": [
    {
     "data": {
      "text/plain": [
       "<AxesSubplot:>"
      ]
     },
     "execution_count": 205,
     "metadata": {},
     "output_type": "execute_result"
    },
    {
     "data": {
      "image/png": "[encoded data removed]",
      "text/plain": [
       "<Figure size 432x288 with 1 Axes>"
      ]
     },
     "metadata": {
      "needs_background": "light"
     },
     "output_type": "display_data"
    }
   ],
   "source": [
    "d['idx'].plot()"
   ]
  },
  {
   "cell_type": "code",
   "execution_count": 206,
   "id": "54f9b1be",
   "metadata": {},
   "outputs": [],
   "source": [
    "d.to_csv(\"pm15_correlation.csv\")"
   ]
  },
  {
   "cell_type": "code",
   "execution_count": 165,
   "id": "95f9fd16",
   "metadata": {},
   "outputs": [],
   "source": [
    "pm_13_rv.to_csv(\"pm13_revised.csv\")"
   ]
  },
  {
   "cell_type": "code",
   "execution_count": null,
   "id": "d0435d06",
   "metadata": {},
   "outputs": [],
   "source": []
  }
 ],
 "metadata": {
  "hide_input": false,
  "kernelspec": {
   "display_name": "Python 3",
   "language": "python",
   "name": "python3"
  },
  "language_info": {
   "codemirror_mode": {
    "name": "ipython",
    "version": 3
   },
   "file_extension": ".py",
   "mimetype": "text/x-python",
   "name": "python",
   "nbconvert_exporter": "python",
   "pygments_lexer": "ipython3",
   "version": "3.8.3"
  },
  "toc": {
   "base_numbering": 1,
   "nav_menu": {},
   "number_sections": true,
   "sideBar": true,
   "skip_h1_title": false,
   "title_cell": "Table of Contents",
   "title_sidebar": "Contents",
   "toc_cell": false,
   "toc_position": {},
   "toc_section_display": true,
   "toc_window_display": false
  }
 },
 "nbformat": 4,
 "nbformat_minor": 5
}
