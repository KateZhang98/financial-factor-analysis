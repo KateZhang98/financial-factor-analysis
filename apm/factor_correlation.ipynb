{
 "cells": [
  {
   "cell_type": "code",
   "execution_count": 1,
   "id": "edb9e645",
   "metadata": {},
   "outputs": [],
   "source": [
    "import datetime\n",
    "import time\n",
    "import sys\n",
    "sys.path.append(r'/home/hengtian/lucy/factor-analyzer-v4/')\n",
    "import pymysql\n",
    "import matplotlib.pyplot as plt\n",
    "import pandas as pd\n",
    "import numpy as np\n",
    "import multiprocessing\n",
    "import os\n",
    "import queue\n",
    "\n",
    "import datetime as dt\n"
   ]
  },
  {
   "cell_type": "code",
   "execution_count": null,
   "id": "4d29e0f5",
   "metadata": {},
   "outputs": [],
   "source": [
    "apm_ov = pd.read_csv(\"/home/hengtian/kate/apm/data_inday/ovngt_1030_1430.csv\",index_col =0)"
   ]
  },
  {
   "cell_type": "code",
   "execution_count": 97,
   "id": "fadc3942",
   "metadata": {},
   "outputs": [],
   "source": [
    "ov_apm = pd.read_csv(\"/home/hengtian/kate/apm/apm_ovpm.csv\", index_col = 0)"
   ]
  },
  {
   "cell_type": "code",
   "execution_count": 122,
   "id": "f31289ff",
   "metadata": {},
   "outputs": [],
   "source": [
    "ov_apm=ov_apm[apm_ov.columns]"
   ]
  },
  {
   "cell_type": "code",
   "execution_count": 102,
   "id": "0746407a",
   "metadata": {},
   "outputs": [],
   "source": [
    "apm_ov= apm_ov[:-2]"
   ]
  },
  {
   "cell_type": "code",
   "execution_count": 26,
   "id": "1e4fbc90",
   "metadata": {},
   "outputs": [],
   "source": [
    "a =apm_ov.loc['2021-06-22']\n",
    "idx_a = a[a.isnull()].index\n",
    "b = ov_chg.loc['2021-06-22']\n",
    "idx_b = b[b.isnull()].index\n",
    "total =list(idx_a.union(idx_b))\n",
    "a[total]= np.nan\n",
    "b[total]=np.nan"
   ]
  },
  {
   "cell_type": "code",
   "execution_count": 129,
   "id": "cca80fc8",
   "metadata": {},
   "outputs": [],
   "source": [
    "def fac_corr(date,q):\n",
    "    inday = apm_ov.loc[date]\n",
    "    ovngt =ov_apm.loc[date]\n",
    "    idx_a = inday[inday.isnull()].index\n",
    "    idx_b = ovngt[ovngt.isnull()].index\n",
    "    total = list(idx_a.union(idx_b))\n",
    "    inday[total]= np.nan\n",
    "    ovngt[total]=np.nan\n",
    "    corr = np.corrcoef(inday.dropna(),ovngt.dropna())[0,1]\n",
    "    return q.put({date:corr})"
   ]
  },
  {
   "cell_type": "code",
   "execution_count": 130,
   "id": "d973263f",
   "metadata": {
    "scrolled": false
   },
   "outputs": [],
   "source": [
    "q = multiprocessing.Manager().Queue()\n",
    "param = []\n",
    "dates = apm_ov['2018-01-31':].index\n",
    "for date in dates:\n",
    "    param.append((date,q))\n",
    "# print(param)\n",
    "#task\n",
    "with multiprocessing.Pool(processes =4) as pool:\n",
    "    pool.starmap(fac_corr,param)\n",
    "\n",
    "#extract\n",
    "elements = []\n",
    "while q.qsize():\n",
    "    elements.append(q.get())"
   ]
  },
  {
   "cell_type": "code",
   "execution_count": 93,
   "id": "0489988b",
   "metadata": {},
   "outputs": [
    {
     "data": {
      "text/plain": [
       "-0.005288857074543341"
      ]
     },
     "execution_count": 93,
     "metadata": {},
     "output_type": "execute_result"
    }
   ],
   "source": [
    "# list(elements[0].keys())[0]\n",
    "a = list(elements[0].keys())[0]\n",
    "val = elements[0].get(a)\n",
    "val"
   ]
  },
  {
   "cell_type": "code",
   "execution_count": 131,
   "id": "4a3c4cf1",
   "metadata": {},
   "outputs": [],
   "source": [
    "d = pd.DataFrame(np.empty((len(dates),1),dtype=object),index=dates)\n",
    "for i in range(len(elements)):\n",
    "    date = list(elements[i].keys())[0]\n",
    "    val = elements[i].get(date)\n",
    "    d.loc[date]=val"
   ]
  },
  {
   "cell_type": "code",
   "execution_count": 132,
   "id": "6aea381b",
   "metadata": {},
   "outputs": [
    {
     "data": {
      "text/plain": [
       "<AxesSubplot:>"
      ]
     },
     "execution_count": 132,
     "metadata": {},
     "output_type": "execute_result"
    },
    {
     "data": {
      "image/png": "[encoded data removed]",
      "text/plain": [
       "<Figure size 432x288 with 1 Axes>"
      ]
     },
     "metadata": {
      "needs_background": "light"
     },
     "output_type": "display_data"
    }
   ],
   "source": [
    "d.plot()"
   ]
  },
  {
   "cell_type": "code",
   "execution_count": 133,
   "id": "5813a003",
   "metadata": {},
   "outputs": [],
   "source": [
    "d.to_csv(\"ov_apm_trash_correlation.csv\")"
   ]
  },
  {
   "cell_type": "code",
   "execution_count": 111,
   "id": "c1cc7584",
   "metadata": {},
   "outputs": [
    {
     "data": {
      "text/plain": [
       "0    0.077788\n",
       "Name: 2021-06-09, dtype: object"
      ]
     },
     "execution_count": 111,
     "metadata": {},
     "output_type": "execute_result"
    }
   ],
   "source": [
    "d.loc['2021-06-09']"
   ]
  },
  {
   "cell_type": "code",
   "execution_count": 112,
   "id": "e31b3fd2",
   "metadata": {},
   "outputs": [
    {
     "data": {
      "text/plain": [
       "000001.XSHE   -1.754446\n",
       "000002.XSHE   -0.642658\n",
       "000004.XSHE         NaN\n",
       "000005.XSHE         NaN\n",
       "000006.XSHE   -0.125725\n",
       "                 ...   \n",
       "688777.XSHG         NaN\n",
       "688788.XSHG         NaN\n",
       "688819.XSHG   -0.527994\n",
       "688981.XSHG    0.598987\n",
       "689009.XSHG   -1.019853\n",
       "Name: 2021-06-09, Length: 4414, dtype: float64"
      ]
     },
     "execution_count": 112,
     "metadata": {},
     "output_type": "execute_result"
    }
   ],
   "source": [
    "apm_ov.loc['2021-06-09']"
   ]
  },
  {
   "cell_type": "code",
   "execution_count": 113,
   "id": "290f426b",
   "metadata": {},
   "outputs": [
    {
     "data": {
      "text/plain": [
       "000001.XSHE   -2.622683\n",
       "000002.XSHE   -1.028090\n",
       "000004.XSHE   -0.151198\n",
       "000005.XSHE         NaN\n",
       "000006.XSHE   -0.614030\n",
       "                 ...   \n",
       "688276.XSHG         NaN\n",
       "301019.XSHE         NaN\n",
       "688367.XSHG         NaN\n",
       "688601.XSHG         NaN\n",
       "301013.XSHE         NaN\n",
       "Name: 2021-06-09, Length: 4414, dtype: float64"
      ]
     },
     "execution_count": 113,
     "metadata": {},
     "output_type": "execute_result"
    }
   ],
   "source": [
    "ov_apm.loc['2021-06-09']"
   ]
  },
  {
   "cell_type": "code",
   "execution_count": 115,
   "id": "1ce76a91",
   "metadata": {},
   "outputs": [
    {
     "data": {
      "text/html": [
       "<div>\n",
       "<style scoped>\n",
       "    .dataframe tbody tr th:only-of-type {\n",
       "        vertical-align: middle;\n",
       "    }\n",
       "\n",
       "    .dataframe tbody tr th {\n",
       "        vertical-align: top;\n",
       "    }\n",
       "\n",
       "    .dataframe thead th {\n",
       "        text-align: right;\n",
       "    }\n",
       "</style>\n",
       "<table border=\"1\" class=\"dataframe\">\n",
       "  <thead>\n",
       "    <tr style=\"text-align: right;\">\n",
       "      <th></th>\n",
       "      <th>2021-06-09</th>\n",
       "      <th>2021-06-09</th>\n",
       "    </tr>\n",
       "  </thead>\n",
       "  <tbody>\n",
       "    <tr>\n",
       "      <th>2021-06-09</th>\n",
       "      <td>1.000000</td>\n",
       "      <td>0.719331</td>\n",
       "    </tr>\n",
       "    <tr>\n",
       "      <th>2021-06-09</th>\n",
       "      <td>0.719331</td>\n",
       "      <td>1.000000</td>\n",
       "    </tr>\n",
       "  </tbody>\n",
       "</table>\n",
       "</div>"
      ],
      "text/plain": [
       "            2021-06-09  2021-06-09\n",
       "2021-06-09    1.000000    0.719331\n",
       "2021-06-09    0.719331    1.000000"
      ]
     },
     "execution_count": 115,
     "metadata": {},
     "output_type": "execute_result"
    }
   ],
   "source": [
    "pd.concat([apm_ov.loc['2021-06-09'], ov_apm.loc['2021-06-09']], axis=1).corr()"
   ]
  },
  {
   "cell_type": "code",
   "execution_count": 118,
   "id": "60ec8700",
   "metadata": {},
   "outputs": [
    {
     "data": {
      "text/plain": [
       "0.07778833864681374"
      ]
     },
     "execution_count": 118,
     "metadata": {},
     "output_type": "execute_result"
    }
   ],
   "source": [
    "fac_corr('2021-06-09')"
   ]
  },
  {
   "cell_type": "code",
   "execution_count": null,
   "id": "c8de35e6",
   "metadata": {},
   "outputs": [],
   "source": []
  }
 ],
 "metadata": {
  "hide_input": false,
  "kernelspec": {
   "display_name": "Python 3",
   "language": "python",
   "name": "python3"
  },
  "language_info": {
   "codemirror_mode": {
    "name": "ipython",
    "version": 3
   },
   "file_extension": ".py",
   "mimetype": "text/x-python",
   "name": "python",
   "nbconvert_exporter": "python",
   "pygments_lexer": "ipython3",
   "version": "3.8.3"
  },
  "toc": {
   "base_numbering": 1,
   "nav_menu": {},
   "number_sections": true,
   "sideBar": true,
   "skip_h1_title": false,
   "title_cell": "Table of Contents",
   "title_sidebar": "Contents",
   "toc_cell": false,
   "toc_position": {},
   "toc_section_display": true,
   "toc_window_display": false
  }
 },
 "nbformat": 4,
 "nbformat_minor": 5
}
