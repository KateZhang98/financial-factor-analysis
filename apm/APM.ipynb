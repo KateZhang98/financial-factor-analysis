{
 "cells": [
  {
   "cell_type": "code",
   "execution_count": 1,
   "id": "d1c1aaa9",
   "metadata": {},
   "outputs": [
    {
     "data": {
      "text/html": [
       "        <script type=\"text/javascript\">\n",
       "        window.PlotlyConfig = {MathJaxConfig: 'local'};\n",
       "        if (window.MathJax) {MathJax.Hub.Config({SVG: {font: \"STIX-Web\"}});}\n",
       "        if (typeof require !== 'undefined') {\n",
       "        require.undef(\"plotly\");\n",
       "        requirejs.config({\n",
       "            paths: {\n",
       "                'plotly': ['https://cdn.plot.ly/plotly-latest.min']\n",
       "            }\n",
       "        });\n",
       "        require(['plotly'], function(Plotly) {\n",
       "            window._Plotly = Plotly;\n",
       "        });\n",
       "        }\n",
       "        </script>\n",
       "        "
      ]
     },
     "metadata": {},
     "output_type": "display_data"
    },
    {
     "data": {
      "text/html": [
       "        <script type=\"text/javascript\">\n",
       "        window.PlotlyConfig = {MathJaxConfig: 'local'};\n",
       "        if (window.MathJax) {MathJax.Hub.Config({SVG: {font: \"STIX-Web\"}});}\n",
       "        if (typeof require !== 'undefined') {\n",
       "        require.undef(\"plotly\");\n",
       "        requirejs.config({\n",
       "            paths: {\n",
       "                'plotly': ['https://cdn.plot.ly/plotly-latest.min']\n",
       "            }\n",
       "        });\n",
       "        require(['plotly'], function(Plotly) {\n",
       "            window._Plotly = Plotly;\n",
       "        });\n",
       "        }\n",
       "        </script>\n",
       "        "
      ]
     },
     "metadata": {},
     "output_type": "display_data"
    }
   ],
   "source": [
    "import datetime\n",
    "import time\n",
    "import sys\n",
    "sys.path.append(r'/home/hengtian/lucy/factor-analyzer-v4/')\n",
    "import pymysql\n",
    "import matplotlib.pyplot as plt\n",
    "import pandas as pd\n",
    "import numpy as np\n",
    "import multiprocessing\n",
    "import os\n",
    "import queue\n",
    "\n",
    "from src import data \n",
    "from src import analyzer\n",
    "\n",
    "\n",
    "import datetime as dt\n",
    "\n",
    "import plotly.graph_objects as go\n",
    "from plotly.subplots import make_subplots\n",
    "\n",
    "from sklearn import linear_model\n",
    "import cufflinks as cf\n",
    "cf.go_offline()"
   ]
  },
  {
   "cell_type": "code",
   "execution_count": 63,
   "id": "82c9e43d",
   "metadata": {},
   "outputs": [],
   "source": [
    "##个股\n",
    "#下午开盘\n",
    "pm_13 = pd.read_csv(\"/home/hengtian/lucy/factor_service/basic_data/second_130000_sell_price.csv\", index_col = 0)\n",
    "pm_13 =pm_13[:'2021-06-18']\n",
    "#收益率\n",
    "mom = pd.read_csv(\"/home/hengtian/lucy/factor_service/basic_data/mom1.csv\", index_col = 0)\n"
   ]
  },
  {
   "cell_type": "code",
   "execution_count": 4,
   "id": "6e5f2c55",
   "metadata": {},
   "outputs": [],
   "source": [
    "mom = mom['2018':'2021-06-18']"
   ]
  },
  {
   "cell_type": "code",
   "execution_count": 3,
   "id": "7922922b",
   "metadata": {},
   "outputs": [],
   "source": [
    "am_open = pd.read_csv(\"/home/hengtian/lucy/factor_service/basic_data/open_price.csv\", index_col = 0)\n",
    "am_open = am_open['2018':'2021-06-18']"
   ]
  },
  {
   "cell_type": "code",
   "execution_count": 4,
   "id": "e45e5cf0",
   "metadata": {},
   "outputs": [],
   "source": [
    "pm_close =pd.read_csv(\"/home/hengtian/lucy/factor_service/basic_data/close_price.csv\", index_col = 0)\n",
    "pm_close = pm_close['2018':'2021-06-18']"
   ]
  },
  {
   "cell_type": "code",
   "execution_count": 68,
   "id": "b438e049",
   "metadata": {},
   "outputs": [
    {
     "data": {
      "text/plain": [
       "4413"
      ]
     },
     "execution_count": 68,
     "metadata": {},
     "output_type": "execute_result"
    }
   ],
   "source": [
    "#整合数据，找到所有共同有的股票值\n",
    "colum = [col for col in am_open.columns if col in list(pm_13.columns)]\n",
    "len(colum)"
   ]
  },
  {
   "cell_type": "code",
   "execution_count": 98,
   "id": "e5db39bc",
   "metadata": {},
   "outputs": [],
   "source": [
    "am_open_rv = am_open[colum]\n",
    "pm_close_rv = pm_close[colum]\n",
    "pm_13_rv = pm_13[colum]"
   ]
  },
  {
   "cell_type": "code",
   "execution_count": 107,
   "id": "513d98e5",
   "metadata": {},
   "outputs": [
    {
     "data": {
      "text/plain": [
       "1155"
      ]
     },
     "execution_count": 107,
     "metadata": {},
     "output_type": "execute_result"
    }
   ],
   "source": [
    "d = am_open_rv.loc['2018-01-03']\n",
    "y = d[d.isnull()].index\n",
    "len(y)"
   ]
  },
  {
   "cell_type": "code",
   "execution_count": 108,
   "id": "4a5a4090",
   "metadata": {},
   "outputs": [
    {
     "data": {
      "text/plain": [
       "1159"
      ]
     },
     "execution_count": 108,
     "metadata": {},
     "output_type": "execute_result"
    }
   ],
   "source": [
    "s = pm_13_rv.loc['2018-01-03']\n",
    "x = s[s.isnull()].index\n",
    "len(x)"
   ]
  },
  {
   "cell_type": "code",
   "execution_count": 84,
   "id": "ca2ecce9",
   "metadata": {},
   "outputs": [
    {
     "data": {
      "text/plain": [
       "['000939.XSHE',\n",
       " '002323.XSHE',\n",
       " '002464.XSHE',\n",
       " '002501.XSHE',\n",
       " '002680.XSHE',\n",
       " '300462.XSHE',\n",
       " '300683.XSHE',\n",
       " '600610.XSHG']"
      ]
     },
     "execution_count": 84,
     "metadata": {},
     "output_type": "execute_result"
    }
   ],
   "source": [
    "miss = [ix for ix in x if ix not in y]\n",
    "miss"
   ]
  },
  {
   "cell_type": "code",
   "execution_count": 14,
   "id": "092994c5",
   "metadata": {},
   "outputs": [],
   "source": [
    "mom_rv = mom[colum1]"
   ]
  },
  {
   "cell_type": "code",
   "execution_count": 9,
   "id": "82c6496d",
   "metadata": {},
   "outputs": [],
   "source": [
    "#指数\n",
    "bmk=pd.read_csv(\"/home/hengtian/lucy/factor_service/basic_data/bmk_minute.csv\", index_col = 0)\n",
    "bmk_open = pd.read_csv(\"/home/hengtian/lucy/factor_service/basic_data/bmk_open.csv\", index_col = 0)\n",
    "bmk_close =pd.read_csv(\"/home/hengtian/lucy/factor_service/basic_data/bmk_close.csv\", index_col = 0)"
   ]
  },
  {
   "cell_type": "code",
   "execution_count": 10,
   "id": "bb094fba",
   "metadata": {},
   "outputs": [],
   "source": [
    "#上午指数\n",
    "bmk_am = bmk_open['2018':'2021-06-18']\n",
    "#下午开盘指数\n",
    "bmk_pm13_index = [s for s in bmk.index if '11:30:00' in s]\n",
    "bmk_pm13 = bmk.loc[bmk_pm13_index]\n",
    "bmk_pm13 = bmk_pm13['2018':'2021-06-18']\n",
    "bmk_pm = bmk_close['2018':'2021-06-18']"
   ]
  },
  {
   "cell_type": "code",
   "execution_count": 11,
   "id": "733615c8",
   "metadata": {},
   "outputs": [],
   "source": [
    "#中证500开盘\n",
    "bmk_am_zz = bmk_am['000905.XSHG']\n",
    "bmk_pm13_zz = bmk_pm13['close_000905.XSHG']\n",
    "bmk_pm_zz = bmk_pm['000905.XSHG']"
   ]
  },
  {
   "cell_type": "code",
   "execution_count": 12,
   "id": "79f1995e",
   "metadata": {},
   "outputs": [],
   "source": [
    "dic1 = dict(zip(bmk_pm13_zz.index,bmk_am_zz.index))\n",
    "bmk_pm13_zz = bmk_pm13_zz.rename(dic1,axis = 'index')"
   ]
  },
  {
   "cell_type": "code",
   "execution_count": 117,
   "id": "a771d0f3",
   "metadata": {},
   "outputs": [],
   "source": [
    "#个股\n",
    "\n",
    "#上午的收益率\n",
    "am_er =pm_13_rv/am_open_rv-1\n",
    "# am_er = am_er.drop('2018-07-05 00:00:00',axis = 0)\n",
    "\n",
    "#下午收益率\n",
    "pm_er = pm_close_rv/pm_13_rv-1\n",
    "# pm_er = pm_er.drop('2018-07-05 00:00:00',axis = 0)"
   ]
  },
  {
   "cell_type": "code",
   "execution_count": 118,
   "id": "71367f9d",
   "metadata": {},
   "outputs": [],
   "source": [
    "#指数\n",
    "\n",
    "#上午收益率\n",
    "bmk_am_er = bmk_pm13_zz/bmk_am_zz-1\n",
    "bmk_pm_er =bmk_pm_zz/bmk_pm13_zz-1"
   ]
  },
  {
   "cell_type": "code",
   "execution_count": 120,
   "id": "529df099",
   "metadata": {},
   "outputs": [
    {
     "data": {
      "text/plain": [
       "2018-01-02    0.006268\n",
       "2018-01-03    0.008514\n",
       "2018-01-04    0.002700\n",
       "2018-01-05    0.002578\n",
       "2018-01-08    0.002310\n",
       "                ...   \n",
       "2021-06-11   -0.003689\n",
       "2021-06-15   -0.009860\n",
       "2021-06-16   -0.010313\n",
       "2021-06-17    0.007894\n",
       "2021-06-18         NaN\n",
       "Length: 840, dtype: float64"
      ]
     },
     "execution_count": 120,
     "metadata": {},
     "output_type": "execute_result"
    }
   ],
   "source": [
    "bmk_am_er"
   ]
  },
  {
   "cell_type": "code",
   "execution_count": 119,
   "id": "8d2c5565",
   "metadata": {},
   "outputs": [],
   "source": [
    "model =linear_model.LinearRegression()"
   ]
  },
  {
   "cell_type": "code",
   "execution_count": 101,
   "id": "a6c98750",
   "metadata": {},
   "outputs": [],
   "source": [
    "def task(stock,q):\n",
    "    i = 20\n",
    "    a_er = am_er[stock]\n",
    "    p_er = pm_er[stock]\n",
    "    stats = np.full(len(a_er), np.nan)\n",
    "    apm = np.full(len(stats),np.nan)\n",
    "    while i<len(a_er):\n",
    "        if len(a_er.iloc[i-20:i].dropna())!= 20:\n",
    "            i+=1\n",
    "        else:\n",
    "            s_am = np.array(a_er.iloc[i-20:i])\n",
    "            s_pm = np.array(p_er.iloc[i-20:i])\n",
    "            s_bmk_a =np.array(bmk_am_er.iloc[i-20:i])\n",
    "            s_bmk_p =np.array(bmk_pm_er.iloc[i-20:i])\n",
    "#             s_mom = np.array(mom[i-20:i])\n",
    "            model.fit(s_bmk_a.reshape(-1, 1),s_am)\n",
    "            resid_a =s_am-model.predict(s_bmk_a.reshape(-1, 1))\n",
    "#             print(resid_a)\n",
    "            model.fit(s_bmk_p.reshape(-1, 1),s_pm)\n",
    "            resid_p = s_pm-model.predict(s_bmk_p.reshape(-1, 1))\n",
    "#             print(resid_p)\n",
    "            resid = resid_a-resid_p\n",
    "            stat = np.mean(resid)/(np.std(np.array(resid))/np.sqrt(20))\n",
    "            stats[i]=stat\n",
    "            i+=1\n",
    "#     j =20\n",
    "#     print(stats)\n",
    "#     while j <len(apm):\n",
    "#         if len(mom.iloc[j-20:j].dropna())!= 20 or len(stats.iloc[j-20:j].dropna())!= 20:\n",
    "#             j+=1\n",
    "#         else:\n",
    "#             sta = np.array(apm.iloc[j-20:j])\n",
    "#             mom = np.array(mom.iloc[j-20:j])\n",
    "#             model.fit(sta.reshape(-1, 1),mom)\n",
    "#             apm[j] = sta- model.predict(mom.reshape(-1, 1))\n",
    "#             j+=1\n",
    "    return q.put({stock:stats})"
   ]
  },
  {
   "cell_type": "code",
   "execution_count": 104,
   "id": "9f453823",
   "metadata": {},
   "outputs": [
    {
     "name": "stderr",
     "output_type": "stream",
     "text": [
      "/home/hengtian/anaconda3/envs/lucy/lib/python3.7/site-packages/ipykernel_launcher.py:23: RuntimeWarning:\n",
      "\n",
      "invalid value encountered in double_scalars\n",
      "\n",
      "/home/hengtian/anaconda3/envs/lucy/lib/python3.7/site-packages/ipykernel_launcher.py:23: RuntimeWarning:\n",
      "\n",
      "invalid value encountered in double_scalars\n",
      "\n",
      "/home/hengtian/anaconda3/envs/lucy/lib/python3.7/site-packages/ipykernel_launcher.py:23: RuntimeWarning:\n",
      "\n",
      "invalid value encountered in double_scalars\n",
      "\n",
      "/home/hengtian/anaconda3/envs/lucy/lib/python3.7/site-packages/ipykernel_launcher.py:23: RuntimeWarning:\n",
      "\n",
      "invalid value encountered in double_scalars\n",
      "\n",
      "/home/hengtian/anaconda3/envs/lucy/lib/python3.7/site-packages/ipykernel_launcher.py:23: RuntimeWarning:\n",
      "\n",
      "invalid value encountered in double_scalars\n",
      "\n",
      "/home/hengtian/anaconda3/envs/lucy/lib/python3.7/site-packages/ipykernel_launcher.py:23: RuntimeWarning:\n",
      "\n",
      "invalid value encountered in double_scalars\n",
      "\n",
      "/home/hengtian/anaconda3/envs/lucy/lib/python3.7/site-packages/ipykernel_launcher.py:23: RuntimeWarning:\n",
      "\n",
      "invalid value encountered in double_scalars\n",
      "\n",
      "/home/hengtian/anaconda3/envs/lucy/lib/python3.7/site-packages/ipykernel_launcher.py:23: RuntimeWarning:\n",
      "\n",
      "invalid value encountered in double_scalars\n",
      "\n",
      "/home/hengtian/anaconda3/envs/lucy/lib/python3.7/site-packages/ipykernel_launcher.py:23: RuntimeWarning:\n",
      "\n",
      "invalid value encountered in double_scalars\n",
      "\n",
      "/home/hengtian/anaconda3/envs/lucy/lib/python3.7/site-packages/ipykernel_launcher.py:23: RuntimeWarning:\n",
      "\n",
      "invalid value encountered in double_scalars\n",
      "\n",
      "/home/hengtian/anaconda3/envs/lucy/lib/python3.7/site-packages/ipykernel_launcher.py:23: RuntimeWarning:\n",
      "\n",
      "invalid value encountered in double_scalars\n",
      "\n"
     ]
    }
   ],
   "source": [
    "q = multiprocessing.Manager().Queue()\n",
    "param = []\n",
    "for stock in am_er.columns:\n",
    "    param.append((stock,q))\n",
    "# print(param)\n",
    "#task\n",
    "with multiprocessing.Pool(processes =4) as pool:\n",
    "    pool.starmap(task,param)\n",
    "\n",
    "#extract\n",
    "elements = []\n",
    "while q.qsize():\n",
    "    elements.append(q.get())"
   ]
  },
  {
   "cell_type": "code",
   "execution_count": 105,
   "id": "f02bac4e",
   "metadata": {},
   "outputs": [],
   "source": [
    "d = pd.DataFrame(np.empty((len(am_er),am_er.shape[1]),dtype=object),columns = am_er.columns, index = am_er.index)\n",
    "for i in range(len(elements)):\n",
    "    stock = list(elements[i].keys())[0]\n",
    "    val = list(elements[i][stock])\n",
    "    d[stock]=val"
   ]
  },
  {
   "cell_type": "code",
   "execution_count": 106,
   "id": "abf44a45",
   "metadata": {},
   "outputs": [],
   "source": [
    "d.shift(1).to_csv(\"apm_v2.csv\")"
   ]
  },
  {
   "cell_type": "code",
   "execution_count": 262,
   "id": "1fbb9bb9",
   "metadata": {},
   "outputs": [
    {
     "name": "stdout",
     "output_type": "stream",
     "text": [
      "000018.XSHE   NaN\n",
      "000022.XSHE   NaN\n",
      "000023.XSHE   NaN\n",
      "000042.XSHE   NaN\n",
      "000043.XSHE   NaN\n",
      "               ..\n",
      "688425.XSHG   NaN\n",
      "001207.XSHE   NaN\n",
      "688216.XSHG   NaN\n",
      "001208.XSHE   NaN\n",
      "688690.XSHG   NaN\n",
      "Name: 2021-06-18, Length: 434, dtype: float64\n"
     ]
    }
   ],
   "source": [
    "k=d.loc['2021-06-18']\n",
    "#print(np.where(np.isnan(k)).shape)\n",
    "print(k[k.isnull()])"
   ]
  },
  {
   "cell_type": "code",
   "execution_count": 158,
   "id": "9de34f49",
   "metadata": {},
   "outputs": [],
   "source": [
    "#每只股票对动量因子做横截面切割取residual\n",
    "def delete_mom(date):\n",
    "    apm = np.full(len(d), np.nan)\n",
    "    s_apm = d.loc[date].values\n",
    "    print(np.where(np.isnan(s_apm)))\n",
    "    s_mom = df.loc[date].values\n",
    "    print(np.where(np.isnan(s_mom)))\n",
    "    clf.fit(s_mom.reshape(-1,1), s_apm)\n",
    "    resid = s_apm - clf.predict(s_mom.reshape(-1,1))\n",
    "    print(resid.shape)\n",
    "    return resid\n",
    "    "
   ]
  },
  {
   "cell_type": "code",
   "execution_count": 159,
   "id": "969461c8",
   "metadata": {},
   "outputs": [
    {
     "name": "stdout",
     "output_type": "stream",
     "text": [
      "(array([  14,   18,   19,   35,   36,   82,   88,   92,  102,  110,  131,\n",
      "        160,  161,  175,  189,  211,  221,  228,  247,  281,  289,  294,\n",
      "        313,  316,  335,  389,  417,  423,  438,  445,  448,  484,  490,\n",
      "        518,  524,  528,  536,  537,  538,  542,  543,  587,  588,  609,\n",
      "        616,  654,  664,  666,  686,  713,  724,  725,  745,  747,  788,\n",
      "        798,  801,  802,  819,  820,  822,  824,  842,  883,  910,  915,\n",
      "        938,  942,  961,  964,  967,  974,  978, 1033, 1039, 1050, 1068,\n",
      "       1098, 1144, 1156, 1170, 1173, 1175, 1177, 1180, 1190, 1208, 1209,\n",
      "       1229, 1241, 1250, 1256, 1266, 1267, 1273, 1284, 1307, 1316, 1319,\n",
      "       1327, 1329, 1338, 1414, 1417, 1447, 1455, 1485, 1486, 1527, 1546,\n",
      "       1560, 1581, 1612, 1613, 1671, 1776, 1811, 1816, 1825, 1845, 1855,\n",
      "       1863, 1884, 1899, 1902, 1926, 1939, 1944, 1961, 1974, 1987, 1988,\n",
      "       2001, 2004, 2008, 2012, 2044, 2056, 2062, 2074, 2084, 2089, 2097,\n",
      "       2100, 2105, 2110, 2113, 2118, 2136, 2143, 2148, 2154, 2157, 2163,\n",
      "       2175, 2189, 2199, 2209, 2225, 2227, 2228, 2233, 2244, 2254, 2271,\n",
      "       2274, 2283, 2298, 2308, 2324, 2327, 2335, 2342, 2387, 2388, 2392,\n",
      "       2401, 2404, 2408, 2409, 2411, 2427, 2449, 2481, 2498, 2511, 2540,\n",
      "       2545, 2558, 2559, 2564, 2566, 2595, 2605, 2641, 2662, 2664, 2677,\n",
      "       2689, 2696, 2707, 2729, 2777, 2794, 2822, 2837, 2843, 2844, 2859,\n",
      "       2891, 2896, 2899, 2906, 2915, 2917, 2919, 2936, 2938, 2942, 2964,\n",
      "       2982, 2999, 3017, 3026, 3036, 3056, 3063, 3075, 3095, 3102, 3107,\n",
      "       3135, 3211, 3233, 3243, 3244, 3259, 3386, 3388, 3389, 3391, 3393,\n",
      "       3395, 3397, 3410, 3422, 3428, 3429, 3433, 3481, 3492, 3499, 3506,\n",
      "       3507, 3514, 3520, 3545, 3582, 3615, 3634, 3635, 3641, 3653, 3659,\n",
      "       3665, 3680, 3686, 3687, 3694, 3715, 3732, 3742, 3743, 3754, 3757,\n",
      "       3786, 3792, 3809, 3818, 3823, 3827, 3838, 3840, 3848, 3885, 3889,\n",
      "       3891, 3896, 3897, 3917, 3926, 3932, 3933, 3934, 3935, 3939, 3951,\n",
      "       3956, 3957, 3959, 3965, 3967, 3968, 3977, 3979, 3982, 3988, 3989,\n",
      "       3990, 3993, 3995, 3998, 4001, 4003, 4006, 4007, 4009, 4012, 4016,\n",
      "       4017, 4030, 4031, 4032, 4033, 4034, 4035, 4039, 4041, 4046, 4047,\n",
      "       4048, 4052, 4053, 4054, 4055, 4061, 4063, 4065, 4066, 4067, 4069,\n",
      "       4070, 4076, 4079, 4081, 4084, 4086, 4089, 4092, 4093, 4094, 4096,\n",
      "       4100, 4104, 4109, 4112, 4113, 4121, 4123, 4135, 4156, 4157, 4158,\n",
      "       4170, 4171, 4172, 4173, 4179, 4180, 4183, 4193, 4197, 4204, 4223,\n",
      "       4240, 4252, 4260, 4271, 4291, 4313, 4323, 4354, 4355, 4356, 4357,\n",
      "       4358, 4359, 4360, 4361, 4362, 4363, 4364, 4365, 4366, 4367, 4368,\n",
      "       4369, 4370, 4371, 4372, 4373, 4374, 4375, 4376, 4377, 4378, 4379,\n",
      "       4380, 4381, 4382, 4383, 4384, 4385, 4386, 4387, 4388, 4389, 4390,\n",
      "       4391, 4392, 4393, 4394, 4395, 4396, 4397, 4398, 4399, 4400, 4401,\n",
      "       4402, 4403, 4404, 4405, 4406]),)\n",
      "(array([  14,   18,   36,   88,  110,  221,  247,  417,  445,  484,  536,\n",
      "        537,  609,  686,  915,  942,  974, 1068, 1144, 1485, 1546, 1560,\n",
      "       1612, 1671, 1884, 2387, 2392, 2404, 2481, 2540, 2545, 2564, 2605,\n",
      "       2677, 2696, 2729, 2896, 2899, 2906, 2919, 2964, 3017, 3095, 3135,\n",
      "       3233, 3259, 4351, 4352, 4353, 4354, 4355, 4356, 4357, 4358, 4359,\n",
      "       4360, 4361, 4362, 4363, 4364, 4365, 4366, 4367, 4368, 4369, 4370,\n",
      "       4371, 4372, 4373, 4374, 4375, 4376, 4377, 4378, 4379, 4380, 4381,\n",
      "       4382, 4383, 4384, 4385, 4386, 4387, 4388, 4389, 4390, 4391, 4392,\n",
      "       4393, 4394, 4395, 4396, 4397, 4398, 4399, 4400, 4401, 4402, 4403,\n",
      "       4404, 4405, 4406]),)\n"
     ]
    },
    {
     "ename": "ValueError",
     "evalue": "Input contains NaN, infinity or a value too large for dtype('float64').",
     "output_type": "error",
     "traceback": [
      "\u001b[0;31m---------------------------------------------------------------------------\u001b[0m",
      "\u001b[0;31mValueError\u001b[0m                                Traceback (most recent call last)",
      "\u001b[0;32m<ipython-input-159-830a7e5bc3ba>\u001b[0m in \u001b[0;36m<module>\u001b[0;34m\u001b[0m\n\u001b[0;32m----> 1\u001b[0;31m \u001b[0mdelete_mom\u001b[0m\u001b[0;34m(\u001b[0m\u001b[0;34m'2021-06-18'\u001b[0m\u001b[0;34m)\u001b[0m\u001b[0;34m\u001b[0m\u001b[0;34m\u001b[0m\u001b[0m\n\u001b[0m",
      "\u001b[0;32m<ipython-input-158-4d1510e8822e>\u001b[0m in \u001b[0;36mdelete_mom\u001b[0;34m(date)\u001b[0m\n\u001b[1;32m      6\u001b[0m     \u001b[0ms_mom\u001b[0m \u001b[0;34m=\u001b[0m \u001b[0mdf\u001b[0m\u001b[0;34m.\u001b[0m\u001b[0mloc\u001b[0m\u001b[0;34m[\u001b[0m\u001b[0mdate\u001b[0m\u001b[0;34m]\u001b[0m\u001b[0;34m.\u001b[0m\u001b[0mvalues\u001b[0m\u001b[0;34m\u001b[0m\u001b[0;34m\u001b[0m\u001b[0m\n\u001b[1;32m      7\u001b[0m     \u001b[0mprint\u001b[0m\u001b[0;34m(\u001b[0m\u001b[0mnp\u001b[0m\u001b[0;34m.\u001b[0m\u001b[0mwhere\u001b[0m\u001b[0;34m(\u001b[0m\u001b[0mnp\u001b[0m\u001b[0;34m.\u001b[0m\u001b[0misnan\u001b[0m\u001b[0;34m(\u001b[0m\u001b[0ms_mom\u001b[0m\u001b[0;34m)\u001b[0m\u001b[0;34m)\u001b[0m\u001b[0;34m)\u001b[0m\u001b[0;34m\u001b[0m\u001b[0;34m\u001b[0m\u001b[0m\n\u001b[0;32m----> 8\u001b[0;31m     \u001b[0mclf\u001b[0m\u001b[0;34m.\u001b[0m\u001b[0mfit\u001b[0m\u001b[0;34m(\u001b[0m\u001b[0ms_mom\u001b[0m\u001b[0;34m.\u001b[0m\u001b[0mreshape\u001b[0m\u001b[0;34m(\u001b[0m\u001b[0;34m-\u001b[0m\u001b[0;36m1\u001b[0m\u001b[0;34m,\u001b[0m\u001b[0;36m1\u001b[0m\u001b[0;34m)\u001b[0m\u001b[0;34m,\u001b[0m \u001b[0ms_apm\u001b[0m\u001b[0;34m)\u001b[0m\u001b[0;34m\u001b[0m\u001b[0;34m\u001b[0m\u001b[0m\n\u001b[0m\u001b[1;32m      9\u001b[0m     \u001b[0mresid\u001b[0m \u001b[0;34m=\u001b[0m \u001b[0ms_apm\u001b[0m \u001b[0;34m-\u001b[0m \u001b[0mclf\u001b[0m\u001b[0;34m.\u001b[0m\u001b[0mpredict\u001b[0m\u001b[0;34m(\u001b[0m\u001b[0ms_mom\u001b[0m\u001b[0;34m.\u001b[0m\u001b[0mreshape\u001b[0m\u001b[0;34m(\u001b[0m\u001b[0;34m-\u001b[0m\u001b[0;36m1\u001b[0m\u001b[0;34m,\u001b[0m\u001b[0;36m1\u001b[0m\u001b[0;34m)\u001b[0m\u001b[0;34m)\u001b[0m\u001b[0;34m\u001b[0m\u001b[0;34m\u001b[0m\u001b[0m\n\u001b[1;32m     10\u001b[0m     \u001b[0mprint\u001b[0m\u001b[0;34m(\u001b[0m\u001b[0mresid\u001b[0m\u001b[0;34m.\u001b[0m\u001b[0mshape\u001b[0m\u001b[0;34m)\u001b[0m\u001b[0;34m\u001b[0m\u001b[0;34m\u001b[0m\u001b[0m\n",
      "\u001b[0;32m~/anaconda3/lib/python3.8/site-packages/sklearn/linear_model/_base.py\u001b[0m in \u001b[0;36mfit\u001b[0;34m(self, X, y, sample_weight)\u001b[0m\n\u001b[1;32m    516\u001b[0m         \u001b[0maccept_sparse\u001b[0m \u001b[0;34m=\u001b[0m \u001b[0;32mFalse\u001b[0m \u001b[0;32mif\u001b[0m \u001b[0mself\u001b[0m\u001b[0;34m.\u001b[0m\u001b[0mpositive\u001b[0m \u001b[0;32melse\u001b[0m \u001b[0;34m[\u001b[0m\u001b[0;34m'csr'\u001b[0m\u001b[0;34m,\u001b[0m \u001b[0;34m'csc'\u001b[0m\u001b[0;34m,\u001b[0m \u001b[0;34m'coo'\u001b[0m\u001b[0;34m]\u001b[0m\u001b[0;34m\u001b[0m\u001b[0;34m\u001b[0m\u001b[0m\n\u001b[1;32m    517\u001b[0m \u001b[0;34m\u001b[0m\u001b[0m\n\u001b[0;32m--> 518\u001b[0;31m         X, y = self._validate_data(X, y, accept_sparse=accept_sparse,\n\u001b[0m\u001b[1;32m    519\u001b[0m                                    y_numeric=True, multi_output=True)\n\u001b[1;32m    520\u001b[0m \u001b[0;34m\u001b[0m\u001b[0m\n",
      "\u001b[0;32m~/anaconda3/lib/python3.8/site-packages/sklearn/base.py\u001b[0m in \u001b[0;36m_validate_data\u001b[0;34m(self, X, y, reset, validate_separately, **check_params)\u001b[0m\n\u001b[1;32m    431\u001b[0m                 \u001b[0my\u001b[0m \u001b[0;34m=\u001b[0m \u001b[0mcheck_array\u001b[0m\u001b[0;34m(\u001b[0m\u001b[0my\u001b[0m\u001b[0;34m,\u001b[0m \u001b[0;34m**\u001b[0m\u001b[0mcheck_y_params\u001b[0m\u001b[0;34m)\u001b[0m\u001b[0;34m\u001b[0m\u001b[0;34m\u001b[0m\u001b[0m\n\u001b[1;32m    432\u001b[0m             \u001b[0;32melse\u001b[0m\u001b[0;34m:\u001b[0m\u001b[0;34m\u001b[0m\u001b[0;34m\u001b[0m\u001b[0m\n\u001b[0;32m--> 433\u001b[0;31m                 \u001b[0mX\u001b[0m\u001b[0;34m,\u001b[0m \u001b[0my\u001b[0m \u001b[0;34m=\u001b[0m \u001b[0mcheck_X_y\u001b[0m\u001b[0;34m(\u001b[0m\u001b[0mX\u001b[0m\u001b[0;34m,\u001b[0m \u001b[0my\u001b[0m\u001b[0;34m,\u001b[0m \u001b[0;34m**\u001b[0m\u001b[0mcheck_params\u001b[0m\u001b[0;34m)\u001b[0m\u001b[0;34m\u001b[0m\u001b[0;34m\u001b[0m\u001b[0m\n\u001b[0m\u001b[1;32m    434\u001b[0m             \u001b[0mout\u001b[0m \u001b[0;34m=\u001b[0m \u001b[0mX\u001b[0m\u001b[0;34m,\u001b[0m \u001b[0my\u001b[0m\u001b[0;34m\u001b[0m\u001b[0;34m\u001b[0m\u001b[0m\n\u001b[1;32m    435\u001b[0m \u001b[0;34m\u001b[0m\u001b[0m\n",
      "\u001b[0;32m~/anaconda3/lib/python3.8/site-packages/sklearn/utils/validation.py\u001b[0m in \u001b[0;36minner_f\u001b[0;34m(*args, **kwargs)\u001b[0m\n\u001b[1;32m     61\u001b[0m             \u001b[0mextra_args\u001b[0m \u001b[0;34m=\u001b[0m \u001b[0mlen\u001b[0m\u001b[0;34m(\u001b[0m\u001b[0margs\u001b[0m\u001b[0;34m)\u001b[0m \u001b[0;34m-\u001b[0m \u001b[0mlen\u001b[0m\u001b[0;34m(\u001b[0m\u001b[0mall_args\u001b[0m\u001b[0;34m)\u001b[0m\u001b[0;34m\u001b[0m\u001b[0;34m\u001b[0m\u001b[0m\n\u001b[1;32m     62\u001b[0m             \u001b[0;32mif\u001b[0m \u001b[0mextra_args\u001b[0m \u001b[0;34m<=\u001b[0m \u001b[0;36m0\u001b[0m\u001b[0;34m:\u001b[0m\u001b[0;34m\u001b[0m\u001b[0;34m\u001b[0m\u001b[0m\n\u001b[0;32m---> 63\u001b[0;31m                 \u001b[0;32mreturn\u001b[0m \u001b[0mf\u001b[0m\u001b[0;34m(\u001b[0m\u001b[0;34m*\u001b[0m\u001b[0margs\u001b[0m\u001b[0;34m,\u001b[0m \u001b[0;34m**\u001b[0m\u001b[0mkwargs\u001b[0m\u001b[0;34m)\u001b[0m\u001b[0;34m\u001b[0m\u001b[0;34m\u001b[0m\u001b[0m\n\u001b[0m\u001b[1;32m     64\u001b[0m \u001b[0;34m\u001b[0m\u001b[0m\n\u001b[1;32m     65\u001b[0m             \u001b[0;31m# extra_args > 0\u001b[0m\u001b[0;34m\u001b[0m\u001b[0;34m\u001b[0m\u001b[0;34m\u001b[0m\u001b[0m\n",
      "\u001b[0;32m~/anaconda3/lib/python3.8/site-packages/sklearn/utils/validation.py\u001b[0m in \u001b[0;36mcheck_X_y\u001b[0;34m(X, y, accept_sparse, accept_large_sparse, dtype, order, copy, force_all_finite, ensure_2d, allow_nd, multi_output, ensure_min_samples, ensure_min_features, y_numeric, estimator)\u001b[0m\n\u001b[1;32m    812\u001b[0m         \u001b[0;32mraise\u001b[0m \u001b[0mValueError\u001b[0m\u001b[0;34m(\u001b[0m\u001b[0;34m\"y cannot be None\"\u001b[0m\u001b[0;34m)\u001b[0m\u001b[0;34m\u001b[0m\u001b[0;34m\u001b[0m\u001b[0m\n\u001b[1;32m    813\u001b[0m \u001b[0;34m\u001b[0m\u001b[0m\n\u001b[0;32m--> 814\u001b[0;31m     X = check_array(X, accept_sparse=accept_sparse,\n\u001b[0m\u001b[1;32m    815\u001b[0m                     \u001b[0maccept_large_sparse\u001b[0m\u001b[0;34m=\u001b[0m\u001b[0maccept_large_sparse\u001b[0m\u001b[0;34m,\u001b[0m\u001b[0;34m\u001b[0m\u001b[0;34m\u001b[0m\u001b[0m\n\u001b[1;32m    816\u001b[0m                     \u001b[0mdtype\u001b[0m\u001b[0;34m=\u001b[0m\u001b[0mdtype\u001b[0m\u001b[0;34m,\u001b[0m \u001b[0morder\u001b[0m\u001b[0;34m=\u001b[0m\u001b[0morder\u001b[0m\u001b[0;34m,\u001b[0m \u001b[0mcopy\u001b[0m\u001b[0;34m=\u001b[0m\u001b[0mcopy\u001b[0m\u001b[0;34m,\u001b[0m\u001b[0;34m\u001b[0m\u001b[0;34m\u001b[0m\u001b[0m\n",
      "\u001b[0;32m~/anaconda3/lib/python3.8/site-packages/sklearn/utils/validation.py\u001b[0m in \u001b[0;36minner_f\u001b[0;34m(*args, **kwargs)\u001b[0m\n\u001b[1;32m     61\u001b[0m             \u001b[0mextra_args\u001b[0m \u001b[0;34m=\u001b[0m \u001b[0mlen\u001b[0m\u001b[0;34m(\u001b[0m\u001b[0margs\u001b[0m\u001b[0;34m)\u001b[0m \u001b[0;34m-\u001b[0m \u001b[0mlen\u001b[0m\u001b[0;34m(\u001b[0m\u001b[0mall_args\u001b[0m\u001b[0;34m)\u001b[0m\u001b[0;34m\u001b[0m\u001b[0;34m\u001b[0m\u001b[0m\n\u001b[1;32m     62\u001b[0m             \u001b[0;32mif\u001b[0m \u001b[0mextra_args\u001b[0m \u001b[0;34m<=\u001b[0m \u001b[0;36m0\u001b[0m\u001b[0;34m:\u001b[0m\u001b[0;34m\u001b[0m\u001b[0;34m\u001b[0m\u001b[0m\n\u001b[0;32m---> 63\u001b[0;31m                 \u001b[0;32mreturn\u001b[0m \u001b[0mf\u001b[0m\u001b[0;34m(\u001b[0m\u001b[0;34m*\u001b[0m\u001b[0margs\u001b[0m\u001b[0;34m,\u001b[0m \u001b[0;34m**\u001b[0m\u001b[0mkwargs\u001b[0m\u001b[0;34m)\u001b[0m\u001b[0;34m\u001b[0m\u001b[0;34m\u001b[0m\u001b[0m\n\u001b[0m\u001b[1;32m     64\u001b[0m \u001b[0;34m\u001b[0m\u001b[0m\n\u001b[1;32m     65\u001b[0m             \u001b[0;31m# extra_args > 0\u001b[0m\u001b[0;34m\u001b[0m\u001b[0;34m\u001b[0m\u001b[0;34m\u001b[0m\u001b[0m\n",
      "\u001b[0;32m~/anaconda3/lib/python3.8/site-packages/sklearn/utils/validation.py\u001b[0m in \u001b[0;36mcheck_array\u001b[0;34m(array, accept_sparse, accept_large_sparse, dtype, order, copy, force_all_finite, ensure_2d, allow_nd, ensure_min_samples, ensure_min_features, estimator)\u001b[0m\n\u001b[1;32m    661\u001b[0m \u001b[0;34m\u001b[0m\u001b[0m\n\u001b[1;32m    662\u001b[0m         \u001b[0;32mif\u001b[0m \u001b[0mforce_all_finite\u001b[0m\u001b[0;34m:\u001b[0m\u001b[0;34m\u001b[0m\u001b[0;34m\u001b[0m\u001b[0m\n\u001b[0;32m--> 663\u001b[0;31m             _assert_all_finite(array,\n\u001b[0m\u001b[1;32m    664\u001b[0m                                allow_nan=force_all_finite == 'allow-nan')\n\u001b[1;32m    665\u001b[0m \u001b[0;34m\u001b[0m\u001b[0m\n",
      "\u001b[0;32m~/anaconda3/lib/python3.8/site-packages/sklearn/utils/validation.py\u001b[0m in \u001b[0;36m_assert_all_finite\u001b[0;34m(X, allow_nan, msg_dtype)\u001b[0m\n\u001b[1;32m    101\u001b[0m                 not allow_nan and not np.isfinite(X).all()):\n\u001b[1;32m    102\u001b[0m             \u001b[0mtype_err\u001b[0m \u001b[0;34m=\u001b[0m \u001b[0;34m'infinity'\u001b[0m \u001b[0;32mif\u001b[0m \u001b[0mallow_nan\u001b[0m \u001b[0;32melse\u001b[0m \u001b[0;34m'NaN, infinity'\u001b[0m\u001b[0;34m\u001b[0m\u001b[0;34m\u001b[0m\u001b[0m\n\u001b[0;32m--> 103\u001b[0;31m             raise ValueError(\n\u001b[0m\u001b[1;32m    104\u001b[0m                     \u001b[0mmsg_err\u001b[0m\u001b[0;34m.\u001b[0m\u001b[0mformat\u001b[0m\u001b[0;34m\u001b[0m\u001b[0;34m\u001b[0m\u001b[0m\n\u001b[1;32m    105\u001b[0m                     (type_err,\n",
      "\u001b[0;31mValueError\u001b[0m: Input contains NaN, infinity or a value too large for dtype('float64')."
     ]
    }
   ],
   "source": [
    "delete_mom('2021-06-18')"
   ]
  },
  {
   "cell_type": "code",
   "execution_count": null,
   "id": "fb52454a",
   "metadata": {},
   "outputs": [],
   "source": [
    "apm_raw =pd.DataFrame(np.empty((len(d),d.shape[1]),dtype=object),columns = d.columns, index = d.index)\n",
    "for dates in d.index:\n",
    "    raw =delete_mom(dates)\n",
    "    apm_raw = raw"
   ]
  },
  {
   "cell_type": "code",
   "execution_count": 140,
   "id": "089a190c",
   "metadata": {},
   "outputs": [],
   "source": [
    "#计算过去20天的收益率\n",
    "def ret(stock, p):\n",
    "    i =20\n",
    "    m = mom_rv[stock]\n",
    "    s_mom = np.full(len(mom_rv),np.nan)\n",
    "    while i<len(mom_rv):\n",
    "        if len(m[i-20:i].dropna()) != 20:\n",
    "            i+=1\n",
    "        else:\n",
    "            s = m[i-20:i]\n",
    "            s_mom[i] =s.mean()\n",
    "            i+=1\n",
    "    return p.put({stock:s_mom})"
   ]
  },
  {
   "cell_type": "code",
   "execution_count": 141,
   "id": "8b7fcf9a",
   "metadata": {},
   "outputs": [],
   "source": [
    "p = multiprocessing.Manager().Queue()\n",
    "param1 = []\n",
    "for stock in mom_rv.columns:\n",
    "    param1.append((stock,p))\n",
    "# print(param)\n",
    "#task\n",
    "with multiprocessing.Pool(processes =4) as pool:\n",
    "    pool.starmap(ret,param1)\n",
    "\n",
    "#extract\n",
    "elements1 = []\n",
    "while p.qsize():\n",
    "    elements1.append(p.get())"
   ]
  },
  {
   "cell_type": "code",
   "execution_count": 142,
   "id": "6c6b6bee",
   "metadata": {},
   "outputs": [],
   "source": [
    "df = pd.DataFrame(np.empty((len(mom_rv),mom_rv.shape[1]),dtype=object),columns = mom_rv.columns, index = mom_rv.index)\n",
    "for i in range(len(elements1)):\n",
    "    stock = list(elements1[i].keys())[0]\n",
    "    val = list(elements1[i][stock])\n",
    "    df[stock]=val"
   ]
  }
 ],
 "metadata": {
  "hide_input": false,
  "kernelspec": {
   "display_name": "Python [conda env:lucy]",
   "language": "python",
   "name": "conda-env-lucy-py"
  },
  "language_info": {
   "codemirror_mode": {
    "name": "ipython",
    "version": 3
   },
   "file_extension": ".py",
   "mimetype": "text/x-python",
   "name": "python",
   "nbconvert_exporter": "python",
   "pygments_lexer": "ipython3",
   "version": "3.7.4"
  },
  "toc": {
   "base_numbering": 1,
   "nav_menu": {},
   "number_sections": true,
   "sideBar": true,
   "skip_h1_title": false,
   "title_cell": "Table of Contents",
   "title_sidebar": "Contents",
   "toc_cell": false,
   "toc_position": {},
   "toc_section_display": true,
   "toc_window_display": false
  }
 },
 "nbformat": 4,
 "nbformat_minor": 5
}
