{
 "cells": [
  {
   "cell_type": "code",
   "execution_count": 2,
   "id": "1a6afa72",
   "metadata": {},
   "outputs": [],
   "source": [
    "import datetime\n",
    "import time\n",
    "import sys\n",
    "sys.path.append(r'/home/hengtian/lucy/factor-analyzer-v4/')\n",
    "import pymysql\n",
    "import matplotlib.pyplot as plt\n",
    "import pandas as pd\n",
    "import numpy as np\n",
    "import multiprocessing\n",
    "import os\n",
    "import queue\n",
    "\n",
    "# from src import data \n",
    "# from src import analyzer\n",
    "\n",
    "\n",
    "import datetime as dt\n",
    "\n",
    "import plotly.graph_objects as go\n",
    "from plotly.subplots import make_subplots\n",
    "\n",
    "from sklearn import linear_model\n",
    "# import cufflinks as cf\n",
    "# cf.go_offline()"
   ]
  },
  {
   "cell_type": "code",
   "execution_count": 3,
   "id": "4cd0c4c7",
   "metadata": {},
   "outputs": [],
   "source": [
    "ov_chg = pd.read_csv(\"/home/hengtian/kate/chg/ovngt_chg.csv\", index_col = 0)"
   ]
  },
  {
   "cell_type": "code",
   "execution_count": 7,
   "id": "4e9ba4a1",
   "metadata": {},
   "outputs": [],
   "source": [
    "ov_chg = ov_chg.drop('idx',axis = 1)"
   ]
  },
  {
   "cell_type": "code",
   "execution_count": 4,
   "id": "ef3c2ceb",
   "metadata": {},
   "outputs": [],
   "source": [
    "am_chg = pd.read_csv(\"/home/hengtian/kate/chg/am_chg.csv\", index_col = 0)"
   ]
  },
  {
   "cell_type": "code",
   "execution_count": 5,
   "id": "f34b35dd",
   "metadata": {},
   "outputs": [],
   "source": [
    "pm_chg = pd.read_csv(\"/home/hengtian/kate/chg/pm_chg.csv\", index_col = 0)"
   ]
  },
  {
   "cell_type": "code",
   "execution_count": 11,
   "id": "77ec7ae5",
   "metadata": {},
   "outputs": [],
   "source": [
    "l=len(ov_chg)"
   ]
  },
  {
   "cell_type": "code",
   "execution_count": 23,
   "id": "0bcca60a",
   "metadata": {},
   "outputs": [],
   "source": [
    "def apm_w(stock,q):\n",
    "    i = 20\n",
    "    diff = np.full(l,np.nan)\n",
    "    am = am_chg[stock]\n",
    "    pm = pm_chg[stock]\n",
    "    ovngt =ov_chg[stock]\n",
    "    while i<l:\n",
    "        s_ov = ovngt.iloc[i-20:i]\n",
    "        s_am =am.iloc[i-20:i]\n",
    "        s_pm = pm.iloc[i-20:i]\n",
    "        if len(s_am.dropna())<20 or len(s_pm.dropna())<20:\n",
    "            i+=1\n",
    "        else:\n",
    "            am_sum = s_am.sum()\n",
    "            ov_sum = s_ov.sum()\n",
    "            pm_sum = s_pm.sum()\n",
    "            diff[i] =am_sum-pm_sum\n",
    "            i+=1\n",
    "    return q.put({stock:diff})"
   ]
  },
  {
   "cell_type": "code",
   "execution_count": 24,
   "id": "f9067d00",
   "metadata": {},
   "outputs": [],
   "source": [
    "q = multiprocessing.Manager().Queue()\n",
    "param = []\n",
    "col =ov_chg.columns[:-1]\n",
    "for stock in col:\n",
    "    param.append((stock,q))\n",
    "# print(param)\n",
    "#task\n",
    "with multiprocessing.Pool(processes =4) as pool:\n",
    "    pool.starmap(apm_w,param)\n",
    "\n",
    "#extract\n",
    "elements = []\n",
    "while q.qsize():\n",
    "    elements.append(q.get())"
   ]
  },
  {
   "cell_type": "code",
   "execution_count": 25,
   "id": "76cf3fc5",
   "metadata": {},
   "outputs": [],
   "source": [
    "d = pd.DataFrame(np.empty((len(ov_chg),len(col)),dtype=object),columns = col, index = ov_chg.index)\n",
    "for i in range(len(elements)):\n",
    "    stock = list(elements[i].keys())[0]\n",
    "    val = list(elements[i][stock])\n",
    "    d[stock]=val"
   ]
  },
  {
   "cell_type": "code",
   "execution_count": 26,
   "id": "75039c6c",
   "metadata": {},
   "outputs": [],
   "source": [
    "d.to_csv(\"apm_avp.csv\")"
   ]
  },
  {
   "cell_type": "code",
   "execution_count": null,
   "id": "87ab33bf",
   "metadata": {},
   "outputs": [],
   "source": []
  }
 ],
 "metadata": {
  "hide_input": false,
  "kernelspec": {
   "display_name": "Python 3",
   "language": "python",
   "name": "python3"
  },
  "language_info": {
   "codemirror_mode": {
    "name": "ipython",
    "version": 3
   },
   "file_extension": ".py",
   "mimetype": "text/x-python",
   "name": "python",
   "nbconvert_exporter": "python",
   "pygments_lexer": "ipython3",
   "version": "3.8.3"
  },
  "toc": {
   "base_numbering": 1,
   "nav_menu": {},
   "number_sections": true,
   "sideBar": true,
   "skip_h1_title": false,
   "title_cell": "Table of Contents",
   "title_sidebar": "Contents",
   "toc_cell": false,
   "toc_position": {},
   "toc_section_display": true,
   "toc_window_display": false
  }
 },
 "nbformat": 4,
 "nbformat_minor": 5
}
