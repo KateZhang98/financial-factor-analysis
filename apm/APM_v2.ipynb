{
 "cells": [
  {
   "cell_type": "code",
   "execution_count": 1,
   "id": "17962c1a",
   "metadata": {},
   "outputs": [
    {
     "data": {
      "text/html": [
       "        <script type=\"text/javascript\">\n",
       "        window.PlotlyConfig = {MathJaxConfig: 'local'};\n",
       "        if (window.MathJax) {MathJax.Hub.Config({SVG: {font: \"STIX-Web\"}});}\n",
       "        if (typeof require !== 'undefined') {\n",
       "        require.undef(\"plotly\");\n",
       "        requirejs.config({\n",
       "            paths: {\n",
       "                'plotly': ['https://cdn.plot.ly/plotly-latest.min']\n",
       "            }\n",
       "        });\n",
       "        require(['plotly'], function(Plotly) {\n",
       "            window._Plotly = Plotly;\n",
       "        });\n",
       "        }\n",
       "        </script>\n",
       "        "
      ]
     },
     "metadata": {},
     "output_type": "display_data"
    },
    {
     "data": {
      "text/html": [
       "        <script type=\"text/javascript\">\n",
       "        window.PlotlyConfig = {MathJaxConfig: 'local'};\n",
       "        if (window.MathJax) {MathJax.Hub.Config({SVG: {font: \"STIX-Web\"}});}\n",
       "        if (typeof require !== 'undefined') {\n",
       "        require.undef(\"plotly\");\n",
       "        requirejs.config({\n",
       "            paths: {\n",
       "                'plotly': ['https://cdn.plot.ly/plotly-latest.min']\n",
       "            }\n",
       "        });\n",
       "        require(['plotly'], function(Plotly) {\n",
       "            window._Plotly = Plotly;\n",
       "        });\n",
       "        }\n",
       "        </script>\n",
       "        "
      ]
     },
     "metadata": {},
     "output_type": "display_data"
    }
   ],
   "source": [
    "import datetime\n",
    "import time\n",
    "import sys\n",
    "sys.path.append(r'/home/hengtian/lucy/factor-analyzer-v4/')\n",
    "import pymysql\n",
    "import matplotlib.pyplot as plt\n",
    "import pandas as pd\n",
    "import numpy as np\n",
    "import multiprocessing\n",
    "import os\n",
    "import queue\n",
    "\n",
    "from src import data \n",
    "from src import analyzer\n",
    "\n",
    "\n",
    "import datetime as dt\n",
    "\n",
    "import plotly.graph_objects as go\n",
    "from plotly.subplots import make_subplots\n",
    "\n",
    "from sklearn import linear_model\n",
    "import cufflinks as cf\n",
    "cf.go_offline()"
   ]
  },
  {
   "cell_type": "code",
   "execution_count": null,
   "id": "0c14e3c2",
   "metadata": {},
   "outputs": [],
   "source": [
    "##个股\n",
    "#下午开盘\n",
    "pm_13 = pd.read_csv(\"/home/hengtian/lucy/factor_service/basic_data/second_130000_sell_price.csv\", index_col = 0)\n",
    "pm_13 =pm_13[:'2021-06-18']\n",
    "#收益率\n",
    "# mom = pd.read_csv(\"/home/hengtian/lucy/factor_service/basic_data/mom1.csv\", index_col = 0)"
   ]
  },
  {
   "cell_type": "code",
   "execution_count": 3,
   "id": "83090873",
   "metadata": {},
   "outputs": [],
   "source": [
    "am_open = pd.read_csv(\"/home/hengtian/lucy/factor_service/basic_data/open_price.csv\", index_col = 0)\n",
    "am_open = am_open['2018':'2021-06-18']"
   ]
  },
  {
   "cell_type": "code",
   "execution_count": 4,
   "id": "44f73f84",
   "metadata": {},
   "outputs": [],
   "source": [
    "pm_close =pd.read_csv(\"/home/hengtian/lucy/factor_service/basic_data/close_price.csv\", index_col = 0)\n",
    "pm_close = pm_close['2018':'2021-06-18']"
   ]
  },
  {
   "cell_type": "code",
   "execution_count": 5,
   "id": "5bce5c3d",
   "metadata": {},
   "outputs": [
    {
     "data": {
      "text/plain": [
       "4413"
      ]
     },
     "execution_count": 5,
     "metadata": {},
     "output_type": "execute_result"
    }
   ],
   "source": [
    "colum = [col for col in am_open.columns if col in list(pm_13.columns)]\n",
    "len(colum)"
   ]
  },
  {
   "cell_type": "code",
   "execution_count": 6,
   "id": "a201c998",
   "metadata": {},
   "outputs": [],
   "source": [
    "am_open_rv = am_open[colum]\n",
    "pm_close_rv = pm_close[colum]\n",
    "pm_13_rv = pm_13[colum]"
   ]
  },
  {
   "cell_type": "code",
   "execution_count": 15,
   "id": "e135e6c7",
   "metadata": {},
   "outputs": [],
   "source": [
    "#股市收益率\n",
    "am_er =pm_13_rv/am_open_rv-1\n",
    "pm_er = pm_close_rv/pm_13_rv-1"
   ]
  },
  {
   "cell_type": "code",
   "execution_count": 16,
   "id": "1d6a405f",
   "metadata": {},
   "outputs": [],
   "source": [
    "#上午指数收益\n",
    "bmk_am = am_er.mean(axis =1)\n",
    "#下午指数收益\n",
    "bmk_pm = pm_er.mean(axis=1)"
   ]
  },
  {
   "cell_type": "code",
   "execution_count": 20,
   "id": "deb6c337",
   "metadata": {},
   "outputs": [],
   "source": [
    "model =linear_model.LinearRegression()"
   ]
  },
  {
   "cell_type": "code",
   "execution_count": 66,
   "id": "84e7e630",
   "metadata": {},
   "outputs": [],
   "source": [
    "#求apm因子值\n",
    "def task(stock,q):\n",
    "    i = 20\n",
    "    a_er = am_er[stock]\n",
    "    p_er = pm_er[stock]\n",
    "    stats = np.full(len(a_er), np.nan)\n",
    "    while i<len(a_er):\n",
    "        if len(a_er.iloc[i-20:i].dropna())!= 20:\n",
    "            i+=1\n",
    "        else:\n",
    "            s_am = np.array(a_er.iloc[i-20:i])\n",
    "            s_pm = np.array(p_er.iloc[i-20:i])\n",
    "            s_bmk_a =np.array(bmk_am.iloc[i-20:i])\n",
    "            s_bmk_p =np.array(bmk_pm.iloc[i-20:i])\n",
    "            test = np.concatenate((s_am,s_pm),axis = 0)\n",
    "            bmk = np.concatenate((s_bmk_a,s_bmk_p),axis = 0)\n",
    "            t.fit(bmk.reshape(-1,1),test)\n",
    "#             res_a = test[0:20]-t.predict(bmk[0:20].reshape(-1,1))\n",
    "            res_p = test[20:]-t.predict(bmk[20:].reshape(-1,1))\n",
    "#             resid = res_a-res_p\n",
    "            stat = np.mean(res_p)/(np.std(np.array(res_p))/np.sqrt(20))\n",
    "            stats[i]=stat\n",
    "            i+=1\n",
    "    return q.put({stock:stats})"
   ]
  },
  {
   "cell_type": "code",
   "execution_count": 67,
   "id": "05369d95",
   "metadata": {},
   "outputs": [
    {
     "name": "stderr",
     "output_type": "stream",
     "text": [
      "/home/hengtian/anaconda3/envs/lucy/lib/python3.7/site-packages/ipykernel_launcher.py:21: RuntimeWarning:\n",
      "\n",
      "invalid value encountered in double_scalars\n",
      "\n",
      "/home/hengtian/anaconda3/envs/lucy/lib/python3.7/site-packages/ipykernel_launcher.py:21: RuntimeWarning:\n",
      "\n",
      "invalid value encountered in double_scalars\n",
      "\n",
      "/home/hengtian/anaconda3/envs/lucy/lib/python3.7/site-packages/ipykernel_launcher.py:21: RuntimeWarning:\n",
      "\n",
      "invalid value encountered in double_scalars\n",
      "\n",
      "/home/hengtian/anaconda3/envs/lucy/lib/python3.7/site-packages/ipykernel_launcher.py:21: RuntimeWarning:\n",
      "\n",
      "invalid value encountered in double_scalars\n",
      "\n",
      "/home/hengtian/anaconda3/envs/lucy/lib/python3.7/site-packages/ipykernel_launcher.py:21: RuntimeWarning:\n",
      "\n",
      "invalid value encountered in double_scalars\n",
      "\n",
      "/home/hengtian/anaconda3/envs/lucy/lib/python3.7/site-packages/ipykernel_launcher.py:21: RuntimeWarning:\n",
      "\n",
      "invalid value encountered in double_scalars\n",
      "\n",
      "/home/hengtian/anaconda3/envs/lucy/lib/python3.7/site-packages/ipykernel_launcher.py:21: RuntimeWarning:\n",
      "\n",
      "invalid value encountered in double_scalars\n",
      "\n",
      "/home/hengtian/anaconda3/envs/lucy/lib/python3.7/site-packages/ipykernel_launcher.py:21: RuntimeWarning:\n",
      "\n",
      "invalid value encountered in double_scalars\n",
      "\n",
      "/home/hengtian/anaconda3/envs/lucy/lib/python3.7/site-packages/ipykernel_launcher.py:21: RuntimeWarning:\n",
      "\n",
      "invalid value encountered in double_scalars\n",
      "\n",
      "/home/hengtian/anaconda3/envs/lucy/lib/python3.7/site-packages/ipykernel_launcher.py:21: RuntimeWarning:\n",
      "\n",
      "invalid value encountered in double_scalars\n",
      "\n",
      "/home/hengtian/anaconda3/envs/lucy/lib/python3.7/site-packages/ipykernel_launcher.py:21: RuntimeWarning:\n",
      "\n",
      "invalid value encountered in double_scalars\n",
      "\n"
     ]
    }
   ],
   "source": [
    "q = multiprocessing.Manager().Queue()\n",
    "param = []\n",
    "for stock in am_er.columns:\n",
    "    param.append((stock,q))\n",
    "# print(param)\n",
    "#task\n",
    "with multiprocessing.Pool(processes =4) as pool:\n",
    "    pool.starmap(task,param)\n",
    "\n",
    "#extract\n",
    "elements = []\n",
    "while q.qsize():\n",
    "    elements.append(q.get())"
   ]
  },
  {
   "cell_type": "code",
   "execution_count": 68,
   "id": "6dca29aa",
   "metadata": {},
   "outputs": [],
   "source": [
    "#将Queue转化为pd\n",
    "\n",
    "d = pd.DataFrame(np.empty((len(am_er),am_er.shape[1]),dtype=object),columns = am_er.columns, index = am_er.index)\n",
    "for i in range(len(elements)):\n",
    "    stock = list(elements[i].keys())[0]\n",
    "    val = list(elements[i][stock])\n",
    "    d[stock]=val"
   ]
  },
  {
   "cell_type": "code",
   "execution_count": 69,
   "id": "b6809e19",
   "metadata": {},
   "outputs": [],
   "source": [
    "d.to_csv(\"apm_pm.csv\")"
   ]
  },
  {
   "cell_type": "code",
   "execution_count": 55,
   "id": "9522d112",
   "metadata": {},
   "outputs": [],
   "source": [
    "#测试\n",
    "#--------------\n",
    "\n",
    "#最后一个20天的股票上午下午涨跌幅\n",
    "am= am_er['000001.XSHE']\n",
    "test_a = am[-22:-2].values\n",
    "pm = pm_er['000001.XSHE']\n",
    "test_p = pm[-22:-2].values\n",
    "\n",
    "#40个数据组合为y值\n",
    "test = np.concatenate((test_a,test_p),axis = 0)"
   ]
  },
  {
   "cell_type": "code",
   "execution_count": 56,
   "id": "a457b863",
   "metadata": {},
   "outputs": [],
   "source": [
    "#最后一个20天所有股票的涨跌幅平均作为指数数据\n",
    "all_a =bmk_am[-22:-2].values\n",
    "all_p = bmk_pm[-22:-2].values"
   ]
  },
  {
   "cell_type": "code",
   "execution_count": 57,
   "id": "b52afa86",
   "metadata": {},
   "outputs": [],
   "source": [
    "#40个数据组合为x值\n",
    "bmk = np.concatenate((all_a,all_p),axis = 0)"
   ]
  },
  {
   "cell_type": "code",
   "execution_count": 58,
   "id": "d652238c",
   "metadata": {},
   "outputs": [],
   "source": [
    "#回归模型\n",
    "t.fit(bmk.reshape(-1,1),test)\n",
    "#上午下午的残差\n",
    "res_a = test[0:20]-t.predict(bmk[0:20].reshape(-1,1))\n",
    "res_p = test[20:]-t.predict(bmk[20:].reshape(-1,1))\n",
    "\n",
    "#残差求差\n",
    "diff_r = res_a-res_p\n",
    "#差值求统计量（标准化）\n",
    "stat_i =np.mean(diff_r)*np.sqrt(20)/np.std(diff_r)"
   ]
  },
  {
   "cell_type": "code",
   "execution_count": 62,
   "id": "483d5e1a",
   "metadata": {},
   "outputs": [],
   "source": [
    "df = d.shift(1)"
   ]
  }
 ],
 "metadata": {
  "hide_input": false,
  "kernelspec": {
   "display_name": "Python [conda env:lucy]",
   "language": "python",
   "name": "conda-env-lucy-py"
  },
  "language_info": {
   "codemirror_mode": {
    "name": "ipython",
    "version": 3
   },
   "file_extension": ".py",
   "mimetype": "text/x-python",
   "name": "python",
   "nbconvert_exporter": "python",
   "pygments_lexer": "ipython3",
   "version": "3.7.4"
  },
  "toc": {
   "base_numbering": 1,
   "nav_menu": {},
   "number_sections": true,
   "sideBar": true,
   "skip_h1_title": false,
   "title_cell": "Table of Contents",
   "title_sidebar": "Contents",
   "toc_cell": false,
   "toc_position": {},
   "toc_section_display": true,
   "toc_window_display": false
  }
 },
 "nbformat": 4,
 "nbformat_minor": 5
}
